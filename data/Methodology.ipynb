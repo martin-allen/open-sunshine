{
 "cells": [
  {
   "cell_type": "code",
   "execution_count": 1,
   "metadata": {
    "ExecuteTime": {
     "end_time": "2021-07-28T14:42:00.019464Z",
     "start_time": "2021-07-28T14:41:59.671798Z"
    }
   },
   "outputs": [],
   "source": [
    "import os\n",
    "import re\n",
    "import json\n",
    "import pandas as pd\n",
    "import numpy as np\n",
    "from fuzzywuzzy import fuzz, process"
   ]
  },
  {
   "cell_type": "markdown",
   "metadata": {},
   "source": [
    "# Formatting"
   ]
  },
  {
   "cell_type": "markdown",
   "metadata": {},
   "source": [
    "In this section I transform the data as released by the government into a single, coherent file. The changes are superficial and do not have any semantic effect on the data."
   ]
  },
  {
   "cell_type": "markdown",
   "metadata": {},
   "source": [
    "## Changes overview"
   ]
  },
  {
   "cell_type": "markdown",
   "metadata": {},
   "source": [
    "**All strings**:\n",
    "- capitalized\n",
    "- removed `,`, `.`\n",
    "- `&` --> `AND`\n",
    "\n",
    "**Dollar amounts**:\n",
    "- no `$` or `,`\n",
    "- `-` --> `0`\n",
    "\n",
    "**Added a `compensation` field, the sum of salary and benefits**."
   ]
  },
  {
   "cell_type": "markdown",
   "metadata": {},
   "source": [
    "## File formatting"
   ]
  },
  {
   "cell_type": "code",
   "execution_count": 2,
   "metadata": {
    "ExecuteTime": {
     "end_time": "2021-07-28T14:42:00.025170Z",
     "start_time": "2021-07-28T14:42:00.020536Z"
    }
   },
   "outputs": [],
   "source": [
    "def format_year(f):\n",
    "    df = pd.read_csv(f'raw/{f}', encoding='latin-1')\n",
    "\n",
    "    # columns\n",
    "    df.columns = df.columns.str.strip().str.lower()\n",
    "    df.rename(columns={\n",
    "        'sector': 'sector',\n",
    "        'ï»¿sector': 'sector', # encoding weirdness\n",
    "        'last name': 'last',\n",
    "        'surname': 'last',\n",
    "        'first name': 'first',\n",
    "        'salary paid': 'salary',\n",
    "        'taxable benefits': 'benefits',\n",
    "        'employer': 'employer',\n",
    "        'job title': 'job',\n",
    "        'position': 'job',\n",
    "        'calendar year': 'year'\n",
    "    }, inplace=True)\n",
    "\n",
    "    # cleaning strings\n",
    "    srepl = ',.'.maketrans({',': '', '.': '', '&': 'AND'})\n",
    "    df['sector'] = df['sector'].str.strip().str.upper().str.translate(srepl)\n",
    "    df['last'] = df['last'].str.strip().str.upper().str.translate(srepl)\n",
    "    df['first'] = df['first'].str.strip().str.upper().str.translate(srepl)\n",
    "    df['employer'] = df['employer'].str.strip().str.upper().str.translate(srepl)\n",
    "    df['job'] = df['job'].str.strip().str.upper().str.translate(srepl)\n",
    "\n",
    "    # formatting $ amounts\n",
    "    nrepl = '$,'.maketrans({'$': '', ',': '', '-': '0'})\n",
    "    if df.salary.dtype == 'object':\n",
    "        df['salary'] = df['salary'].str.translate(nrepl).astype(float)\n",
    "    if df.benefits.dtype == 'object':\n",
    "        df['benefits'] = df['benefits'].str.translate(nrepl).astype(float)\n",
    "\n",
    "    # total comp column\n",
    "    df['compensation'] = df['salary'] + df['benefits']\n",
    "    \n",
    "    df.index.name = 'ind'\n",
    "    return df"
   ]
  },
  {
   "cell_type": "code",
   "execution_count": 3,
   "metadata": {
    "ExecuteTime": {
     "end_time": "2021-07-28T14:42:00.030145Z",
     "start_time": "2021-07-28T14:42:00.026439Z"
    }
   },
   "outputs": [],
   "source": [
    "# raw files\n",
    "files = sorted([f for f in os.listdir('raw/')])"
   ]
  },
  {
   "cell_type": "code",
   "execution_count": 4,
   "metadata": {
    "ExecuteTime": {
     "end_time": "2021-07-28T14:42:14.542177Z",
     "start_time": "2021-07-28T14:42:00.031929Z"
    }
   },
   "outputs": [],
   "source": [
    "# formatted year files\n",
    "dfs = [format_year(f) for f in files]"
   ]
  },
  {
   "cell_type": "markdown",
   "metadata": {},
   "source": [
    "## Combining"
   ]
  },
  {
   "cell_type": "code",
   "execution_count": 62,
   "metadata": {
    "ExecuteTime": {
     "end_time": "2021-07-28T15:03:18.312815Z",
     "start_time": "2021-07-28T15:03:18.010501Z"
    }
   },
   "outputs": [],
   "source": [
    "main = pd.concat(dfs)"
   ]
  },
  {
   "cell_type": "code",
   "execution_count": 63,
   "metadata": {
    "ExecuteTime": {
     "end_time": "2021-07-28T15:03:23.420703Z",
     "start_time": "2021-07-28T15:03:22.822924Z"
    }
   },
   "outputs": [],
   "source": [
    "# fixing cols\n",
    "main.drop('unnamed: 8', axis=1, inplace=True)\n",
    "main = main[[\n",
    "    'year','last','first','salary','benefits',\n",
    "    'compensation','sector','employer','job'\n",
    "]]"
   ]
  },
  {
   "cell_type": "code",
   "execution_count": 64,
   "metadata": {
    "ExecuteTime": {
     "end_time": "2021-07-28T15:03:24.732034Z",
     "start_time": "2021-07-28T15:03:24.730122Z"
    }
   },
   "outputs": [],
   "source": [
    "main.reset_index(inplace=True, drop=True)"
   ]
  },
  {
   "cell_type": "code",
   "execution_count": 65,
   "metadata": {
    "ExecuteTime": {
     "end_time": "2021-07-28T15:03:26.626602Z",
     "start_time": "2021-07-28T15:03:26.618245Z"
    }
   },
   "outputs": [
    {
     "data": {
      "text/html": [
       "<div>\n",
       "<style scoped>\n",
       "    .dataframe tbody tr th:only-of-type {\n",
       "        vertical-align: middle;\n",
       "    }\n",
       "\n",
       "    .dataframe tbody tr th {\n",
       "        vertical-align: top;\n",
       "    }\n",
       "\n",
       "    .dataframe thead th {\n",
       "        text-align: right;\n",
       "    }\n",
       "</style>\n",
       "<table border=\"1\" class=\"dataframe\">\n",
       "  <thead>\n",
       "    <tr style=\"text-align: right;\">\n",
       "      <th></th>\n",
       "      <th>year</th>\n",
       "      <th>last</th>\n",
       "      <th>first</th>\n",
       "      <th>salary</th>\n",
       "      <th>benefits</th>\n",
       "      <th>compensation</th>\n",
       "      <th>sector</th>\n",
       "      <th>employer</th>\n",
       "      <th>job</th>\n",
       "    </tr>\n",
       "  </thead>\n",
       "  <tbody>\n",
       "    <tr>\n",
       "      <th>0</th>\n",
       "      <td>1996</td>\n",
       "      <td>KENDALL</td>\n",
       "      <td>PERRY</td>\n",
       "      <td>194890.40</td>\n",
       "      <td>711.24</td>\n",
       "      <td>195601.64</td>\n",
       "      <td>OTHER PUBLIC SECTOR EMPLOYERS</td>\n",
       "      <td>ADDICTION RESEARCH FOUNDATION</td>\n",
       "      <td>PRESIDENT AND CEO</td>\n",
       "    </tr>\n",
       "    <tr>\n",
       "      <th>1</th>\n",
       "      <td>1996</td>\n",
       "      <td>REHM</td>\n",
       "      <td>JUERGEN</td>\n",
       "      <td>115603.62</td>\n",
       "      <td>403.41</td>\n",
       "      <td>116007.03</td>\n",
       "      <td>OTHER PUBLIC SECTOR EMPLOYERS</td>\n",
       "      <td>ADDICTION RESEARCH FOUNDATION</td>\n",
       "      <td>DIR SOC EVAL RESEARCH AND ACT DIR CLIN RESEARCH</td>\n",
       "    </tr>\n",
       "    <tr>\n",
       "      <th>2</th>\n",
       "      <td>1996</td>\n",
       "      <td>ROOM</td>\n",
       "      <td>ROBIN</td>\n",
       "      <td>149434.48</td>\n",
       "      <td>512.58</td>\n",
       "      <td>149947.06</td>\n",
       "      <td>OTHER PUBLIC SECTOR EMPLOYERS</td>\n",
       "      <td>ADDICTION RESEARCH FOUNDATION</td>\n",
       "      <td>VP RESEARCH AND COORDINATOR INTERN PROGRAMS</td>\n",
       "    </tr>\n",
       "    <tr>\n",
       "      <th>3</th>\n",
       "      <td>1996</td>\n",
       "      <td>KNOX</td>\n",
       "      <td>KEN W</td>\n",
       "      <td>109382.92</td>\n",
       "      <td>4921.68</td>\n",
       "      <td>114304.60</td>\n",
       "      <td>ONTARIO PUBLIC SERVICE</td>\n",
       "      <td>AGRICULTUREFOOD AND RURAL AFFAIRS</td>\n",
       "      <td>DEPUTY MINISTER</td>\n",
       "    </tr>\n",
       "    <tr>\n",
       "      <th>4</th>\n",
       "      <td>1996</td>\n",
       "      <td>CLIFF</td>\n",
       "      <td>BRUCE</td>\n",
       "      <td>110309.00</td>\n",
       "      <td>3157.00</td>\n",
       "      <td>113466.00</td>\n",
       "      <td>HOSPITALS</td>\n",
       "      <td>AJAX AND PICKERING GENERAL HOSPITAL</td>\n",
       "      <td>PRESIDENT AND CEO</td>\n",
       "    </tr>\n",
       "  </tbody>\n",
       "</table>\n",
       "</div>"
      ],
      "text/plain": [
       "   year     last    first     salary  benefits  compensation  \\\n",
       "0  1996  KENDALL    PERRY  194890.40    711.24     195601.64   \n",
       "1  1996     REHM  JUERGEN  115603.62    403.41     116007.03   \n",
       "2  1996     ROOM    ROBIN  149434.48    512.58     149947.06   \n",
       "3  1996     KNOX    KEN W  109382.92   4921.68     114304.60   \n",
       "4  1996    CLIFF    BRUCE  110309.00   3157.00     113466.00   \n",
       "\n",
       "                          sector                             employer  \\\n",
       "0  OTHER PUBLIC SECTOR EMPLOYERS        ADDICTION RESEARCH FOUNDATION   \n",
       "1  OTHER PUBLIC SECTOR EMPLOYERS        ADDICTION RESEARCH FOUNDATION   \n",
       "2  OTHER PUBLIC SECTOR EMPLOYERS        ADDICTION RESEARCH FOUNDATION   \n",
       "3         ONTARIO PUBLIC SERVICE    AGRICULTUREFOOD AND RURAL AFFAIRS   \n",
       "4                      HOSPITALS  AJAX AND PICKERING GENERAL HOSPITAL   \n",
       "\n",
       "                                               job  \n",
       "0                                PRESIDENT AND CEO  \n",
       "1  DIR SOC EVAL RESEARCH AND ACT DIR CLIN RESEARCH  \n",
       "2      VP RESEARCH AND COORDINATOR INTERN PROGRAMS  \n",
       "3                                  DEPUTY MINISTER  \n",
       "4                                PRESIDENT AND CEO  "
      ]
     },
     "execution_count": 65,
     "metadata": {},
     "output_type": "execute_result"
    }
   ],
   "source": [
    "main.head()"
   ]
  },
  {
   "cell_type": "code",
   "execution_count": 66,
   "metadata": {
    "ExecuteTime": {
     "end_time": "2021-07-28T15:03:37.659983Z",
     "start_time": "2021-07-28T15:03:30.374427Z"
    }
   },
   "outputs": [],
   "source": [
    "# saving cleaned data to file\n",
    "main.to_csv('out/main_cleaned.csv')"
   ]
  },
  {
   "cell_type": "markdown",
   "metadata": {},
   "source": [
    "# Garbage Data"
   ]
  },
  {
   "cell_type": "markdown",
   "metadata": {},
   "source": [
    "There is a litany of garbage data hiding in this dataset. Some, I can detect and correct."
   ]
  },
  {
   "cell_type": "markdown",
   "metadata": {},
   "source": [
    "## `year`"
   ]
  },
  {
   "cell_type": "markdown",
   "metadata": {},
   "source": [
    "For some reason, some `year` fields instead are other fields like `job` or `employer`."
   ]
  },
  {
   "cell_type": "code",
   "execution_count": 67,
   "metadata": {
    "ExecuteTime": {
     "end_time": "2021-07-28T15:03:47.182473Z",
     "start_time": "2021-07-28T15:03:46.063527Z"
    }
   },
   "outputs": [],
   "source": [
    "bad_years = '|'.join(main.year.unique()[24:-2].tolist())\n",
    "bad_year_df = {bad_years: np.nan}\n",
    "main['year'] = main['year'].replace(bad_year_df, regex=True)\n",
    "main['year'] = main['year'].replace('Member (Part-time) / Membre (Ã\\xa0 temps partiel)', np.nan)\n",
    "main['year'] = main['year'].replace('2016', 2016)"
   ]
  },
  {
   "cell_type": "code",
   "execution_count": 68,
   "metadata": {
    "ExecuteTime": {
     "end_time": "2021-07-28T15:03:49.560295Z",
     "start_time": "2021-07-28T15:03:49.545519Z"
    }
   },
   "outputs": [
    {
     "data": {
      "text/plain": [
       "array([1996., 1997., 1998., 1999., 2000., 2001., 2002., 2003., 2004.,\n",
       "       2005., 2006., 2007., 2008., 2009., 2010., 2011., 2012., 2013.,\n",
       "       2014., 2015., 2016., 2017., 2018.,   nan, 2019., 2020.])"
      ]
     },
     "execution_count": 68,
     "metadata": {},
     "output_type": "execute_result"
    }
   ],
   "source": [
    "main['year'].unique()"
   ]
  },
  {
   "cell_type": "code",
   "execution_count": 72,
   "metadata": {
    "ExecuteTime": {
     "end_time": "2021-07-28T15:05:16.832313Z",
     "start_time": "2021-07-28T15:05:16.822342Z"
    }
   },
   "outputs": [],
   "source": [
    "# there are a few na years, but all are in 2016\n",
    "main['year'] = main['year'].fillna(2016)"
   ]
  },
  {
   "cell_type": "markdown",
   "metadata": {},
   "source": [
    "# Inflation"
   ]
  },
  {
   "cell_type": "markdown",
   "metadata": {},
   "source": [
    "In this section, I calculate an inflation-adjusted amount of each `compensation` figure. I use the annual average CPI, found [here](https://www150.statcan.gc.ca/t1/tbl1/en/tv.action?pid=1810000501), to adjust each figure to 2020 CAD."
   ]
  },
  {
   "cell_type": "markdown",
   "metadata": {},
   "source": [
    "## CPI"
   ]
  },
  {
   "cell_type": "code",
   "execution_count": 11,
   "metadata": {
    "ExecuteTime": {
     "end_time": "2021-07-28T14:42:23.868128Z",
     "start_time": "2021-07-28T14:42:23.860203Z"
    }
   },
   "outputs": [],
   "source": [
    "# reading in cpi data\n",
    "cpi = pd.read_csv('etc/cpi.csv')\n",
    "cpi = cpi[cpi['Products and product groups'] == 'All-items'][['REF_DATE', 'VALUE']]\n",
    "cpi.rename(columns={'REF_DATE': 'date', 'VALUE': 'value'}, inplace=True)\n",
    "cpi.set_index('date', inplace=True)\n",
    "\n",
    "# as dict\n",
    "cpi_dict = cpi.to_dict()['value']"
   ]
  },
  {
   "cell_type": "code",
   "execution_count": 12,
   "metadata": {
    "ExecuteTime": {
     "end_time": "2021-07-28T14:42:23.873953Z",
     "start_time": "2021-07-28T14:42:23.869192Z"
    }
   },
   "outputs": [
    {
     "data": {
      "text/html": [
       "<div>\n",
       "<style scoped>\n",
       "    .dataframe tbody tr th:only-of-type {\n",
       "        vertical-align: middle;\n",
       "    }\n",
       "\n",
       "    .dataframe tbody tr th {\n",
       "        vertical-align: top;\n",
       "    }\n",
       "\n",
       "    .dataframe thead th {\n",
       "        text-align: right;\n",
       "    }\n",
       "</style>\n",
       "<table border=\"1\" class=\"dataframe\">\n",
       "  <thead>\n",
       "    <tr style=\"text-align: right;\">\n",
       "      <th></th>\n",
       "      <th>value</th>\n",
       "    </tr>\n",
       "    <tr>\n",
       "      <th>date</th>\n",
       "      <th></th>\n",
       "    </tr>\n",
       "  </thead>\n",
       "  <tbody>\n",
       "    <tr>\n",
       "      <th>1996</th>\n",
       "      <td>88.9</td>\n",
       "    </tr>\n",
       "    <tr>\n",
       "      <th>1997</th>\n",
       "      <td>90.4</td>\n",
       "    </tr>\n",
       "    <tr>\n",
       "      <th>1998</th>\n",
       "      <td>91.3</td>\n",
       "    </tr>\n",
       "    <tr>\n",
       "      <th>1999</th>\n",
       "      <td>92.9</td>\n",
       "    </tr>\n",
       "    <tr>\n",
       "      <th>2000</th>\n",
       "      <td>95.4</td>\n",
       "    </tr>\n",
       "  </tbody>\n",
       "</table>\n",
       "</div>"
      ],
      "text/plain": [
       "      value\n",
       "date       \n",
       "1996   88.9\n",
       "1997   90.4\n",
       "1998   91.3\n",
       "1999   92.9\n",
       "2000   95.4"
      ]
     },
     "execution_count": 12,
     "metadata": {},
     "output_type": "execute_result"
    }
   ],
   "source": [
    "cpi.head()"
   ]
  },
  {
   "cell_type": "markdown",
   "metadata": {},
   "source": [
    "## Calculating"
   ]
  },
  {
   "cell_type": "markdown",
   "metadata": {},
   "source": [
    "The formula is:\n",
    "\n",
    "$\\frac{137 - i}{i}$\n",
    "\n",
    "Where:\n",
    "- $i$ is the given year's annual average CPI\n",
    "- $137$ is the annual average CPI for 2020, the year to which all figures are adjusted"
   ]
  },
  {
   "cell_type": "code",
   "execution_count": 73,
   "metadata": {
    "ExecuteTime": {
     "end_time": "2021-07-28T15:05:32.191850Z",
     "start_time": "2021-07-28T15:05:32.188686Z"
    }
   },
   "outputs": [],
   "source": [
    "def inflation(y,v):\n",
    "    \n",
    "    index = cpi_dict[y]\n",
    "    rate = (137 - index) / index \n",
    "    amount = round(v * (1 + rate), 2)\n",
    "    \n",
    "    return amount"
   ]
  },
  {
   "cell_type": "code",
   "execution_count": 74,
   "metadata": {
    "ExecuteTime": {
     "end_time": "2021-07-28T15:05:32.855038Z",
     "start_time": "2021-07-28T15:05:32.848875Z"
    }
   },
   "outputs": [],
   "source": [
    "# cols needed\n",
    "c = main[['year','compensation']]"
   ]
  },
  {
   "cell_type": "code",
   "execution_count": 75,
   "metadata": {
    "ExecuteTime": {
     "end_time": "2021-07-28T15:06:03.154794Z",
     "start_time": "2021-07-28T15:05:34.108444Z"
    }
   },
   "outputs": [],
   "source": [
    "# calling function\n",
    "inf = c.apply(lambda x: inflation(x.year, x.compensation), axis=1)"
   ]
  },
  {
   "cell_type": "code",
   "execution_count": 76,
   "metadata": {
    "ExecuteTime": {
     "end_time": "2021-07-28T15:06:05.376061Z",
     "start_time": "2021-07-28T15:06:05.367014Z"
    }
   },
   "outputs": [
    {
     "name": "stderr",
     "output_type": "stream",
     "text": [
      "<ipython-input-76-a7756af5326d>:2: SettingWithCopyWarning: \n",
      "A value is trying to be set on a copy of a slice from a DataFrame.\n",
      "Try using .loc[row_indexer,col_indexer] = value instead\n",
      "\n",
      "See the caveats in the documentation: https://pandas.pydata.org/pandas-docs/stable/user_guide/indexing.html#returning-a-view-versus-a-copy\n",
      "  c['inf'] = inf\n"
     ]
    },
    {
     "data": {
      "text/html": [
       "<div>\n",
       "<style scoped>\n",
       "    .dataframe tbody tr th:only-of-type {\n",
       "        vertical-align: middle;\n",
       "    }\n",
       "\n",
       "    .dataframe tbody tr th {\n",
       "        vertical-align: top;\n",
       "    }\n",
       "\n",
       "    .dataframe thead th {\n",
       "        text-align: right;\n",
       "    }\n",
       "</style>\n",
       "<table border=\"1\" class=\"dataframe\">\n",
       "  <thead>\n",
       "    <tr style=\"text-align: right;\">\n",
       "      <th></th>\n",
       "      <th>year</th>\n",
       "      <th>compensation</th>\n",
       "      <th>inf</th>\n",
       "    </tr>\n",
       "  </thead>\n",
       "  <tbody>\n",
       "    <tr>\n",
       "      <th>0</th>\n",
       "      <td>1996.0</td>\n",
       "      <td>195601.64</td>\n",
       "      <td>301433.35</td>\n",
       "    </tr>\n",
       "    <tr>\n",
       "      <th>1</th>\n",
       "      <td>1996.0</td>\n",
       "      <td>116007.03</td>\n",
       "      <td>178773.49</td>\n",
       "    </tr>\n",
       "    <tr>\n",
       "      <th>2</th>\n",
       "      <td>1996.0</td>\n",
       "      <td>149947.06</td>\n",
       "      <td>231077.02</td>\n",
       "    </tr>\n",
       "    <tr>\n",
       "      <th>3</th>\n",
       "      <td>1996.0</td>\n",
       "      <td>114304.60</td>\n",
       "      <td>176149.95</td>\n",
       "    </tr>\n",
       "    <tr>\n",
       "      <th>4</th>\n",
       "      <td>1996.0</td>\n",
       "      <td>113466.00</td>\n",
       "      <td>174857.62</td>\n",
       "    </tr>\n",
       "  </tbody>\n",
       "</table>\n",
       "</div>"
      ],
      "text/plain": [
       "     year  compensation        inf\n",
       "0  1996.0     195601.64  301433.35\n",
       "1  1996.0     116007.03  178773.49\n",
       "2  1996.0     149947.06  231077.02\n",
       "3  1996.0     114304.60  176149.95\n",
       "4  1996.0     113466.00  174857.62"
      ]
     },
     "execution_count": 76,
     "metadata": {},
     "output_type": "execute_result"
    }
   ],
   "source": [
    "# comparing inflation to standard figures\n",
    "c['inf'] = inf\n",
    "c.head()"
   ]
  },
  {
   "cell_type": "code",
   "execution_count": 77,
   "metadata": {
    "ExecuteTime": {
     "end_time": "2021-07-28T15:06:09.939621Z",
     "start_time": "2021-07-28T15:06:09.773721Z"
    }
   },
   "outputs": [],
   "source": [
    "# adding to main data\n",
    "main['inf'] = c['inf']\n",
    "main = main[[\n",
    "    'year','last','first','salary',\n",
    "    'benefits','compensation','inf',\n",
    "    'sector','employer','job'\n",
    "]]"
   ]
  },
  {
   "cell_type": "markdown",
   "metadata": {},
   "source": [
    "# Sectors"
   ]
  },
  {
   "cell_type": "markdown",
   "metadata": {},
   "source": [
    "The major change in this section is that I aggregate **ALL SECONDED** dislosures into the wider \"Government of Ontario - Ministries\". I would disaggregate them into Education, Labour etc but the stand-alone quantities aren't large enough to be significant. Instead, they can inform our picture of government staffers.\n",
    "\n",
    "Otherwise, sector names are aggregated together using fuzzy matching."
   ]
  },
  {
   "cell_type": "markdown",
   "metadata": {},
   "source": [
    "## Raw"
   ]
  },
  {
   "cell_type": "code",
   "execution_count": 78,
   "metadata": {
    "ExecuteTime": {
     "end_time": "2021-07-28T15:06:13.983868Z",
     "start_time": "2021-07-28T15:06:13.710696Z"
    }
   },
   "outputs": [],
   "source": [
    "sec = main['sector'].str.strip()"
   ]
  },
  {
   "cell_type": "markdown",
   "metadata": {},
   "source": [
    "Unchanged, these are the most common values:"
   ]
  },
  {
   "cell_type": "code",
   "execution_count": 79,
   "metadata": {
    "ExecuteTime": {
     "end_time": "2021-07-28T15:06:16.063754Z",
     "start_time": "2021-07-28T15:06:15.928835Z"
    }
   },
   "outputs": [
    {
     "data": {
      "text/plain": [
       "MUNICIPALITIES AND SERVICES               407325\n",
       "UNIVERSITIES                              262591\n",
       "SCHOOL BOARDS                             232425\n",
       "HOSPITALS AND BOARDS OF PUBLIC HEALTH     186611\n",
       "HYDRO ONE AND ONTARIO POWER GENERATION    122594\n",
       "GOVERNMENT OF ONTARIO - MINISTRIES        110551\n",
       "CROWN AGENCIES                             74477\n",
       "OTHER PUBLIC SECTOR EMPLOYERS              69525\n",
       "COLLEGES                                   52017\n",
       "ONTARIO POWER GENERATION                   47503\n",
       "Name: sector, dtype: int64"
      ]
     },
     "execution_count": 79,
     "metadata": {},
     "output_type": "execute_result"
    }
   ],
   "source": [
    "sec.value_counts()[:10]"
   ]
  },
  {
   "cell_type": "markdown",
   "metadata": {},
   "source": [
    "With this many unique values:"
   ]
  },
  {
   "cell_type": "code",
   "execution_count": 80,
   "metadata": {
    "ExecuteTime": {
     "end_time": "2021-07-28T15:06:17.208515Z",
     "start_time": "2021-07-28T15:06:17.129083Z"
    }
   },
   "outputs": [
    {
     "data": {
      "text/plain": [
       "62"
      ]
     },
     "execution_count": 80,
     "metadata": {},
     "output_type": "execute_result"
    }
   ],
   "source": [
    "len(sec.unique())"
   ]
  },
  {
   "cell_type": "markdown",
   "metadata": {},
   "source": [
    "## Fuzzy match"
   ]
  },
  {
   "cell_type": "markdown",
   "metadata": {},
   "source": [
    "Since there are so few sectors, I match against a very generous [Levenshtein score](https://en.wikipedia.org/wiki/Levenshtein_distance) of `80`, and vet the matches manually. This algorithm begins with the most common tokens and searches for matches to combine thereto; so, the most common version of the token should be the final one."
   ]
  },
  {
   "cell_type": "code",
   "execution_count": 81,
   "metadata": {
    "ExecuteTime": {
     "end_time": "2021-07-28T15:06:20.791857Z",
     "start_time": "2021-07-28T15:06:20.789354Z"
    }
   },
   "outputs": [],
   "source": [
    "def match_sectors(s):\n",
    "    changes = {}\n",
    "    values = s.value_counts().index\n",
    "    for n in values:\n",
    "        # value cannot be matched already\n",
    "        if n not in changes.keys():\n",
    "            matches = process.extract(n, values, scorer=fuzz.partial_ratio)\n",
    "            if matches:\n",
    "                for m,v in matches:\n",
    "                    if v >= 80 and m != n and m not in changes.values():\n",
    "                        changes[m] = n\n",
    "                        \n",
    "    return changes"
   ]
  },
  {
   "cell_type": "code",
   "execution_count": 82,
   "metadata": {
    "ExecuteTime": {
     "end_time": "2021-07-28T15:06:21.038069Z",
     "start_time": "2021-07-28T15:06:20.907102Z"
    }
   },
   "outputs": [],
   "source": [
    "changes = match_sectors(sec)"
   ]
  },
  {
   "cell_type": "markdown",
   "metadata": {},
   "source": [
    "### Vetting matches"
   ]
  },
  {
   "cell_type": "markdown",
   "metadata": {},
   "source": [
    "These are two manual corrections:"
   ]
  },
  {
   "cell_type": "code",
   "execution_count": 83,
   "metadata": {
    "ExecuteTime": {
     "end_time": "2021-07-28T15:06:24.492929Z",
     "start_time": "2021-07-28T15:06:24.491128Z"
    }
   },
   "outputs": [],
   "source": [
    "changes[\"GOVERNMENT OF ONTARIO \\u00c2\\u0080\\u0094 MINISTRIES\"] = \"GOVERNMENT OF ONTARIO - MINISTRIES\"\n",
    "changes[\"GOVERNMENT OF ONTARIO \\u00c2\\u0080\\u0094 LEGISLATIVE ASSEMBLY AND OFFICES\"] = \"GOVERNMENT OF ONTARIO - LEGISLATIVE ASSEMBLY AND OFFICES\""
   ]
  },
  {
   "cell_type": "markdown",
   "metadata": {},
   "source": [
    "As mentioned, all seconded disclosures are aggregated into Ministries."
   ]
  },
  {
   "cell_type": "code",
   "execution_count": 84,
   "metadata": {
    "ExecuteTime": {
     "end_time": "2021-07-28T15:06:26.780821Z",
     "start_time": "2021-07-28T15:06:26.378242Z"
    }
   },
   "outputs": [],
   "source": [
    "seconded = sec[sec.str.contains('SECOND')].unique()\n",
    "for st in seconded:\n",
    "    changes[st] = \"GOVERNMENT OF ONTARIO - MINISTRIES\""
   ]
  },
  {
   "cell_type": "markdown",
   "metadata": {},
   "source": [
    "### Applying matches"
   ]
  },
  {
   "cell_type": "code",
   "execution_count": 85,
   "metadata": {
    "ExecuteTime": {
     "end_time": "2021-07-28T15:06:31.450820Z",
     "start_time": "2021-07-28T15:06:28.586764Z"
    }
   },
   "outputs": [],
   "source": [
    "nsec = sec.replace(changes)"
   ]
  },
  {
   "cell_type": "code",
   "execution_count": 86,
   "metadata": {
    "ExecuteTime": {
     "end_time": "2021-07-28T15:06:31.485574Z",
     "start_time": "2021-07-28T15:06:31.451881Z"
    }
   },
   "outputs": [],
   "source": [
    "main['sector'] = nsec"
   ]
  },
  {
   "cell_type": "markdown",
   "metadata": {},
   "source": [
    "New top values and # of uniques:"
   ]
  },
  {
   "cell_type": "code",
   "execution_count": 87,
   "metadata": {
    "ExecuteTime": {
     "end_time": "2021-07-28T15:06:33.049070Z",
     "start_time": "2021-07-28T15:06:32.955269Z"
    }
   },
   "outputs": [
    {
     "data": {
      "text/plain": [
       "MUNICIPALITIES AND SERVICES               411255\n",
       "UNIVERSITIES                              262595\n",
       "SCHOOL BOARDS                             232425\n",
       "HOSPITALS AND BOARDS OF PUBLIC HEALTH     193504\n",
       "GOVERNMENT OF ONTARIO - MINISTRIES        178565\n",
       "HYDRO ONE AND ONTARIO POWER GENERATION    170097\n",
       "CROWN AGENCIES                             74477\n",
       "OTHER PUBLIC SECTOR EMPLOYERS              69661\n",
       "COLLEGES                                   58601\n",
       "ONTARIO PUBLIC SERVICE                     11324\n",
       "Name: sector, dtype: int64"
      ]
     },
     "execution_count": 87,
     "metadata": {},
     "output_type": "execute_result"
    }
   ],
   "source": [
    "nsec.value_counts()[:10]"
   ]
  },
  {
   "cell_type": "code",
   "execution_count": 88,
   "metadata": {
    "ExecuteTime": {
     "end_time": "2021-07-28T15:06:34.044409Z",
     "start_time": "2021-07-28T15:06:33.961460Z"
    }
   },
   "outputs": [
    {
     "data": {
      "text/plain": [
       "12"
      ]
     },
     "execution_count": 88,
     "metadata": {},
     "output_type": "execute_result"
    }
   ],
   "source": [
    "len(nsec.unique())"
   ]
  },
  {
   "cell_type": "markdown",
   "metadata": {},
   "source": [
    "## Power companies"
   ]
  },
  {
   "cell_type": "markdown",
   "metadata": {},
   "source": [
    "The most common and fifth-most common employers are `Ontario Power Generation` and `Ontario Hydro` respectively. The latter is the predecessor of the former, as of 1999. Likewise, `Hydro One` another result of the Ontario Hydro privatization has 32K entries.\n",
    "\n",
    "Due to their similarity and subtantial size, I am deliniating OPG and all its tributaries into a single sector: `POWER`.\n",
    "\n",
    "The current grouping is as such: while OPG is grouped with `OPG and ONTARIO HYDRO`, `HYDRO ONE` is in `CROWN AGENCIES`. This is technically true but `OPG` is also a crown corporation. \n",
    "\n",
    "I will make these changes after employer names have been standardized, in sec. 5."
   ]
  },
  {
   "cell_type": "markdown",
   "metadata": {},
   "source": [
    "# Employers"
   ]
  },
  {
   "cell_type": "code",
   "execution_count": 124,
   "metadata": {
    "ExecuteTime": {
     "end_time": "2021-07-28T15:35:14.883256Z",
     "start_time": "2021-07-28T15:35:14.861950Z"
    }
   },
   "outputs": [],
   "source": [
    "e = main['employer']"
   ]
  },
  {
   "cell_type": "markdown",
   "metadata": {},
   "source": [
    "## Raw"
   ]
  },
  {
   "cell_type": "markdown",
   "metadata": {},
   "source": [
    "Before any standardization, this is the state of the data."
   ]
  },
  {
   "cell_type": "code",
   "execution_count": 125,
   "metadata": {
    "ExecuteTime": {
     "end_time": "2021-07-28T15:35:16.403165Z",
     "start_time": "2021-07-28T15:35:16.298034Z"
    }
   },
   "outputs": [
    {
     "data": {
      "text/plain": [
       "ONTARIO POWER GENERATION                      137335\n",
       "CITY OF TORONTO                                60606\n",
       "UNIVERSITY OF TORONTO                          56310\n",
       "CITY OF TORONTO - POLICE SERVICE               41861\n",
       "HYDRO ONE                                      32331\n",
       "ATTORNEY GENERAL                               31329\n",
       "TORONTO DISTRICT SCHOOL BOARD                  29222\n",
       "COMMUNITY SAFETY AND CORRECTIONAL SERVICES     27576\n",
       "YORK UNIVERSITY                                24967\n",
       "CITY OF OTTAWA                                 22240\n",
       "Name: employer, dtype: int64"
      ]
     },
     "execution_count": 125,
     "metadata": {},
     "output_type": "execute_result"
    }
   ],
   "source": [
    "e.value_counts()[:10]"
   ]
  },
  {
   "cell_type": "code",
   "execution_count": 126,
   "metadata": {
    "ExecuteTime": {
     "end_time": "2021-07-28T15:35:17.252858Z",
     "start_time": "2021-07-28T15:35:17.155062Z"
    }
   },
   "outputs": [
    {
     "data": {
      "text/plain": [
       "7135"
      ]
     },
     "execution_count": 126,
     "metadata": {},
     "output_type": "execute_result"
    }
   ],
   "source": [
    "len(e.unique())"
   ]
  },
  {
   "cell_type": "code",
   "execution_count": 127,
   "metadata": {
    "ExecuteTime": {
     "end_time": "2021-07-28T15:35:17.912389Z",
     "start_time": "2021-07-28T15:35:17.808903Z"
    }
   },
   "outputs": [
    {
     "data": {
      "text/plain": [
       "701989"
      ]
     },
     "execution_count": 127,
     "metadata": {},
     "output_type": "execute_result"
    }
   ],
   "source": [
    "sum(e.value_counts()[:25])"
   ]
  },
  {
   "cell_type": "markdown",
   "metadata": {},
   "source": [
    "## Simple cleaning"
   ]
  },
  {
   "cell_type": "markdown",
   "metadata": {},
   "source": [
    "These small style changes will make up many of the fuzzy matches. Ultimately, I want the number of matches to be as low as possible, because I will vet them manually.\n",
    "\n",
    "- extra whitespace\n",
    "- weird unicode delimiters"
   ]
  },
  {
   "cell_type": "code",
   "execution_count": 128,
   "metadata": {
    "ExecuteTime": {
     "end_time": "2021-07-28T15:35:28.146842Z",
     "start_time": "2021-07-28T15:35:28.144952Z"
    }
   },
   "outputs": [],
   "source": [
    "e_repl = {\n",
    "    '\\u00c2\\u0080\\u0094': '-',\n",
    "    '\\u00c2\\u0080\\u0093': '-',\n",
    "    '\\u00a0': '',  \n",
    "    '\\u00c2\\u0080\\u0099': \"'\",\n",
    "    '\\u0092': \"'\",\n",
    "    '-': ''\n",
    "}"
   ]
  },
  {
   "cell_type": "code",
   "execution_count": 129,
   "metadata": {
    "ExecuteTime": {
     "end_time": "2021-07-28T15:35:30.934533Z",
     "start_time": "2021-07-28T15:35:29.133600Z"
    }
   },
   "outputs": [],
   "source": [
    "for k,v in e_repl.items():\n",
    "    e = e.str.replace(k, v, regex=False)"
   ]
  },
  {
   "cell_type": "code",
   "execution_count": 130,
   "metadata": {
    "ExecuteTime": {
     "end_time": "2021-07-28T15:35:33.672413Z",
     "start_time": "2021-07-28T15:35:31.423871Z"
    }
   },
   "outputs": [],
   "source": [
    "e = e.str.strip()\n",
    "e = e.str.replace(r'\\s+', ' ', regex=True)"
   ]
  },
  {
   "cell_type": "markdown",
   "metadata": {},
   "source": [
    "These changes have reduced uniques by 500."
   ]
  },
  {
   "cell_type": "code",
   "execution_count": 131,
   "metadata": {
    "ExecuteTime": {
     "end_time": "2021-07-28T15:35:33.772302Z",
     "start_time": "2021-07-28T15:35:33.673503Z"
    }
   },
   "outputs": [
    {
     "data": {
      "text/plain": [
       "6638"
      ]
     },
     "execution_count": 131,
     "metadata": {},
     "output_type": "execute_result"
    }
   ],
   "source": [
    "len(e.unique())"
   ]
  },
  {
   "cell_type": "markdown",
   "metadata": {},
   "source": [
    "## Employer-specific standardizations"
   ]
  },
  {
   "cell_type": "markdown",
   "metadata": {},
   "source": [
    "The `employer` series has a number of unique issues. These arbitrary changes are meant to fix patterns that I have personally noticed reviewing the data."
   ]
  },
  {
   "cell_type": "markdown",
   "metadata": {},
   "source": [
    "### Miscellaneous abbreviations"
   ]
  },
  {
   "cell_type": "markdown",
   "metadata": {},
   "source": [
    "This series is full of common abbreviations. I standardize them as so:"
   ]
  },
  {
   "cell_type": "code",
   "execution_count": 132,
   "metadata": {
    "ExecuteTime": {
     "end_time": "2021-07-28T15:35:37.426460Z",
     "start_time": "2021-07-28T15:35:37.424183Z"
    }
   },
   "outputs": [],
   "source": [
    "e_abbr_repl = {\n",
    "    'HLTH': 'HEALTH', 'CTR': 'CENTRE', 'CENTER': 'CENTRE',\n",
    "    'CENT': 'CENTRE',\n",
    "    \n",
    "    'SCH': 'SCHOOL', \n",
    "    \n",
    "    'BD': 'BOARD', 'BRD': 'BOARD',\n",
    "    \n",
    "    'HOSP': 'HOSPITAL', 'HOP': 'HOSPITAL',\n",
    "\n",
    "    \"REG'L\": 'REGIONAL',    \n",
    "    \n",
    "    'CORP': 'CORPORATION',\n",
    "    \n",
    "    'SOC': 'SOCIETY',\n",
    "    'ASSOC': 'ASSOCIATION',\n",
    "    \n",
    "    'SERV': 'SERVICES',\n",
    "    'SRVCS': 'SERVICES'    \n",
    "}"
   ]
  },
  {
   "cell_type": "code",
   "execution_count": 133,
   "metadata": {
    "ExecuteTime": {
     "end_time": "2021-07-28T15:35:54.636193Z",
     "start_time": "2021-07-28T15:35:37.531988Z"
    }
   },
   "outputs": [],
   "source": [
    "for k,v in e_abbr_repl.items():\n",
    "    k = fr'\\b{k}\\b'\n",
    "    e = e.str.replace(k, v, regex=True)"
   ]
  },
  {
   "cell_type": "markdown",
   "metadata": {},
   "source": [
    "### Catholic school boards"
   ]
  },
  {
   "cell_type": "markdown",
   "metadata": {},
   "source": [
    "Catholic School Boards have several common acronyms. I am standardzing them as so:"
   ]
  },
  {
   "cell_type": "code",
   "execution_count": 134,
   "metadata": {
    "ExecuteTime": {
     "end_time": "2021-07-28T15:35:54.639022Z",
     "start_time": "2021-07-28T15:35:54.637361Z"
    }
   },
   "outputs": [],
   "source": [
    "e_cth_repl = {\n",
    "    'RCDSB': 'CATHOLIC DISTRICT SCHOOL BOARD',\n",
    "    'RCSSB': 'CATHOLIC DISTRICT SCHOOL BOARD',\n",
    "    'CDSB': 'CATHOLIC DISTRICT SCHOOL BOARD'\n",
    "}"
   ]
  },
  {
   "cell_type": "code",
   "execution_count": 135,
   "metadata": {
    "ExecuteTime": {
     "end_time": "2021-07-28T15:35:55.662139Z",
     "start_time": "2021-07-28T15:35:54.640175Z"
    }
   },
   "outputs": [],
   "source": [
    "for k,v in e_cth_repl.items():\n",
    "    e = e.str.replace(k, v, regex=False)"
   ]
  },
  {
   "cell_type": "code",
   "execution_count": 154,
   "metadata": {
    "ExecuteTime": {
     "end_time": "2021-07-28T15:48:16.479166Z",
     "start_time": "2021-07-28T15:48:16.422785Z"
    }
   },
   "outputs": [
    {
     "data": {
      "text/plain": [
       "17662     HYDRO ONE\n",
       "17663     HYDRO ONE\n",
       "17664     HYDRO ONE\n",
       "17665     HYDRO ONE\n",
       "17666     HYDRO ONE\n",
       "            ...    \n",
       "691024    HYDRO ONE\n",
       "691025    HYDRO ONE\n",
       "691026    HYDRO ONE\n",
       "691027    HYDRO ONE\n",
       "691028    HYDRO ONE\n",
       "Name: employer, Length: 32331, dtype: object"
      ]
     },
     "execution_count": 154,
     "metadata": {},
     "output_type": "execute_result"
    }
   ],
   "source": [
    "e[e == 'HYDRO ONE']"
   ]
  },
  {
   "cell_type": "code",
   "execution_count": 156,
   "metadata": {
    "ExecuteTime": {
     "end_time": "2021-07-28T15:51:05.146175Z",
     "start_time": "2021-07-28T15:51:05.080174Z"
    }
   },
   "outputs": [
    {
     "data": {
      "text/html": [
       "<div>\n",
       "<style scoped>\n",
       "    .dataframe tbody tr th:only-of-type {\n",
       "        vertical-align: middle;\n",
       "    }\n",
       "\n",
       "    .dataframe tbody tr th {\n",
       "        vertical-align: top;\n",
       "    }\n",
       "\n",
       "    .dataframe thead th {\n",
       "        text-align: right;\n",
       "    }\n",
       "</style>\n",
       "<table border=\"1\" class=\"dataframe\">\n",
       "  <thead>\n",
       "    <tr style=\"text-align: right;\">\n",
       "      <th></th>\n",
       "      <th>year</th>\n",
       "      <th>last</th>\n",
       "      <th>first</th>\n",
       "      <th>salary</th>\n",
       "      <th>benefits</th>\n",
       "      <th>compensation</th>\n",
       "      <th>inf</th>\n",
       "      <th>sector</th>\n",
       "      <th>employer</th>\n",
       "      <th>job</th>\n",
       "    </tr>\n",
       "  </thead>\n",
       "  <tbody>\n",
       "    <tr>\n",
       "      <th>1855</th>\n",
       "      <td>1996.0</td>\n",
       "      <td>AGOSTINO</td>\n",
       "      <td>J</td>\n",
       "      <td>104900.0</td>\n",
       "      <td>616.0</td>\n",
       "      <td>105516.0</td>\n",
       "      <td>162606.21</td>\n",
       "      <td>CROWN AGENCIES</td>\n",
       "      <td>ONTARIO HYDRO</td>\n",
       "      <td>SOLICITOR</td>\n",
       "    </tr>\n",
       "    <tr>\n",
       "      <th>1856</th>\n",
       "      <td>1996.0</td>\n",
       "      <td>AITCHISON</td>\n",
       "      <td>G</td>\n",
       "      <td>114690.0</td>\n",
       "      <td>6507.0</td>\n",
       "      <td>121197.0</td>\n",
       "      <td>186771.53</td>\n",
       "      <td>CROWN AGENCIES</td>\n",
       "      <td>ONTARIO HYDRO</td>\n",
       "      <td>MANAGER BUSINESS DEVELOPMENT</td>\n",
       "    </tr>\n",
       "    <tr>\n",
       "      <th>1857</th>\n",
       "      <td>1996.0</td>\n",
       "      <td>AL</td>\n",
       "      <td>S</td>\n",
       "      <td>105088.0</td>\n",
       "      <td>494.0</td>\n",
       "      <td>105582.0</td>\n",
       "      <td>162707.92</td>\n",
       "      <td>CROWN AGENCIES</td>\n",
       "      <td>ONTARIO HYDRO</td>\n",
       "      <td>SHIFT MTCE SUPRV (CONTROL OR MECHANICAL)</td>\n",
       "    </tr>\n",
       "    <tr>\n",
       "      <th>1858</th>\n",
       "      <td>1996.0</td>\n",
       "      <td>ALTMAN</td>\n",
       "      <td>M</td>\n",
       "      <td>100700.0</td>\n",
       "      <td>564.0</td>\n",
       "      <td>101264.0</td>\n",
       "      <td>156053.63</td>\n",
       "      <td>CROWN AGENCIES</td>\n",
       "      <td>ONTARIO HYDRO</td>\n",
       "      <td>MANAGER PAY SERVICES</td>\n",
       "    </tr>\n",
       "    <tr>\n",
       "      <th>1859</th>\n",
       "      <td>1996.0</td>\n",
       "      <td>AMANTEA</td>\n",
       "      <td>F</td>\n",
       "      <td>106427.0</td>\n",
       "      <td>527.0</td>\n",
       "      <td>106954.0</td>\n",
       "      <td>164822.25</td>\n",
       "      <td>CROWN AGENCIES</td>\n",
       "      <td>ONTARIO HYDRO</td>\n",
       "      <td>TECHNICAL SUPERVISOR</td>\n",
       "    </tr>\n",
       "    <tr>\n",
       "      <th>...</th>\n",
       "      <td>...</td>\n",
       "      <td>...</td>\n",
       "      <td>...</td>\n",
       "      <td>...</td>\n",
       "      <td>...</td>\n",
       "      <td>...</td>\n",
       "      <td>...</td>\n",
       "      <td>...</td>\n",
       "      <td>...</td>\n",
       "      <td>...</td>\n",
       "    </tr>\n",
       "    <tr>\n",
       "      <th>11551</th>\n",
       "      <td>1998.0</td>\n",
       "      <td>ZETTEL</td>\n",
       "      <td>T</td>\n",
       "      <td>108146.0</td>\n",
       "      <td>587.0</td>\n",
       "      <td>108733.0</td>\n",
       "      <td>163159.05</td>\n",
       "      <td>CROWN AGENCIES</td>\n",
       "      <td>ONTARIO HYDRO</td>\n",
       "      <td>MAINTENANCE COORDINATOR</td>\n",
       "    </tr>\n",
       "    <tr>\n",
       "      <th>11552</th>\n",
       "      <td>1998.0</td>\n",
       "      <td>ZIEGLER</td>\n",
       "      <td>BE</td>\n",
       "      <td>115948.0</td>\n",
       "      <td>626.0</td>\n",
       "      <td>116574.0</td>\n",
       "      <td>174924.84</td>\n",
       "      <td>CROWN AGENCIES</td>\n",
       "      <td>ONTARIO HYDRO</td>\n",
       "      <td>SHIFT SUPERINTENDENT</td>\n",
       "    </tr>\n",
       "    <tr>\n",
       "      <th>11553</th>\n",
       "      <td>1998.0</td>\n",
       "      <td>ZIURAITIS</td>\n",
       "      <td>J</td>\n",
       "      <td>119642.0</td>\n",
       "      <td>626.0</td>\n",
       "      <td>120268.0</td>\n",
       "      <td>180467.86</td>\n",
       "      <td>CROWN AGENCIES</td>\n",
       "      <td>ONTARIO HYDRO</td>\n",
       "      <td>SHIFT SUPERINTENDENT</td>\n",
       "    </tr>\n",
       "    <tr>\n",
       "      <th>11554</th>\n",
       "      <td>1998.0</td>\n",
       "      <td>ZULIANI</td>\n",
       "      <td>CL</td>\n",
       "      <td>102866.0</td>\n",
       "      <td>36510.0</td>\n",
       "      <td>139376.0</td>\n",
       "      <td>209140.33</td>\n",
       "      <td>CROWN AGENCIES</td>\n",
       "      <td>ONTARIO HYDRO</td>\n",
       "      <td>FINANCIAL TEAM LEADER</td>\n",
       "    </tr>\n",
       "    <tr>\n",
       "      <th>11555</th>\n",
       "      <td>1998.0</td>\n",
       "      <td>ZUSKAN</td>\n",
       "      <td>K</td>\n",
       "      <td>100678.0</td>\n",
       "      <td>554.0</td>\n",
       "      <td>101232.0</td>\n",
       "      <td>151903.44</td>\n",
       "      <td>CROWN AGENCIES</td>\n",
       "      <td>ONTARIO HYDRO</td>\n",
       "      <td>SUPERVISING ENCON ENGINEER</td>\n",
       "    </tr>\n",
       "  </tbody>\n",
       "</table>\n",
       "<p>2670 rows × 10 columns</p>\n",
       "</div>"
      ],
      "text/plain": [
       "         year       last first    salary  benefits  compensation        inf  \\\n",
       "1855   1996.0   AGOSTINO     J  104900.0     616.0      105516.0  162606.21   \n",
       "1856   1996.0  AITCHISON     G  114690.0    6507.0      121197.0  186771.53   \n",
       "1857   1996.0         AL     S  105088.0     494.0      105582.0  162707.92   \n",
       "1858   1996.0     ALTMAN     M  100700.0     564.0      101264.0  156053.63   \n",
       "1859   1996.0    AMANTEA     F  106427.0     527.0      106954.0  164822.25   \n",
       "...       ...        ...   ...       ...       ...           ...        ...   \n",
       "11551  1998.0     ZETTEL     T  108146.0     587.0      108733.0  163159.05   \n",
       "11552  1998.0    ZIEGLER    BE  115948.0     626.0      116574.0  174924.84   \n",
       "11553  1998.0  ZIURAITIS     J  119642.0     626.0      120268.0  180467.86   \n",
       "11554  1998.0    ZULIANI    CL  102866.0   36510.0      139376.0  209140.33   \n",
       "11555  1998.0     ZUSKAN     K  100678.0     554.0      101232.0  151903.44   \n",
       "\n",
       "               sector       employer                                       job  \n",
       "1855   CROWN AGENCIES  ONTARIO HYDRO                                 SOLICITOR  \n",
       "1856   CROWN AGENCIES  ONTARIO HYDRO              MANAGER BUSINESS DEVELOPMENT  \n",
       "1857   CROWN AGENCIES  ONTARIO HYDRO  SHIFT MTCE SUPRV (CONTROL OR MECHANICAL)  \n",
       "1858   CROWN AGENCIES  ONTARIO HYDRO                      MANAGER PAY SERVICES  \n",
       "1859   CROWN AGENCIES  ONTARIO HYDRO                      TECHNICAL SUPERVISOR  \n",
       "...               ...            ...                                       ...  \n",
       "11551  CROWN AGENCIES  ONTARIO HYDRO                   MAINTENANCE COORDINATOR  \n",
       "11552  CROWN AGENCIES  ONTARIO HYDRO                      SHIFT SUPERINTENDENT  \n",
       "11553  CROWN AGENCIES  ONTARIO HYDRO                      SHIFT SUPERINTENDENT  \n",
       "11554  CROWN AGENCIES  ONTARIO HYDRO                     FINANCIAL TEAM LEADER  \n",
       "11555  CROWN AGENCIES  ONTARIO HYDRO                SUPERVISING ENCON ENGINEER  \n",
       "\n",
       "[2670 rows x 10 columns]"
      ]
     },
     "execution_count": 156,
     "metadata": {},
     "output_type": "execute_result"
    }
   ],
   "source": [
    "main[main['employer'] == 'ONTARIO HYDRO']"
   ]
  },
  {
   "cell_type": "markdown",
   "metadata": {},
   "source": [
    "### Resulting uniques"
   ]
  },
  {
   "cell_type": "markdown",
   "metadata": {},
   "source": [
    "These standardizations have reduced the uniques further by 300"
   ]
  },
  {
   "cell_type": "code",
   "execution_count": 136,
   "metadata": {
    "ExecuteTime": {
     "end_time": "2021-07-28T15:35:55.767309Z",
     "start_time": "2021-07-28T15:35:55.663298Z"
    }
   },
   "outputs": [
    {
     "data": {
      "text/plain": [
       "6386"
      ]
     },
     "execution_count": 136,
     "metadata": {},
     "output_type": "execute_result"
    }
   ],
   "source": [
    "len(e.unique())"
   ]
  },
  {
   "cell_type": "markdown",
   "metadata": {},
   "source": [
    "## Fuzzy matching"
   ]
  },
  {
   "cell_type": "markdown",
   "metadata": {},
   "source": [
    "Like the sector matching algorithm, it begins with the most common tokens in the series."
   ]
  },
  {
   "cell_type": "markdown",
   "metadata": {},
   "source": [
    "### First pass"
   ]
  },
  {
   "cell_type": "code",
   "execution_count": 137,
   "metadata": {
    "ExecuteTime": {
     "end_time": "2021-07-28T15:35:56.030975Z",
     "start_time": "2021-07-28T15:35:55.768358Z"
    }
   },
   "outputs": [],
   "source": [
    "def match_employers(s):\n",
    "    changes = {}\n",
    "    for e in s:\n",
    "        if e not in changes.keys():\n",
    "            matches = process.extract(e, s, scorer=fuzz.ratio)\n",
    "            if matches:\n",
    "                for m,v in matches:\n",
    "                    if v >= 90 and m != e and m not in changes.values():\n",
    "                        changes[m] = e      \n",
    "    return changes"
   ]
  },
  {
   "cell_type": "code",
   "execution_count": 139,
   "metadata": {
    "ExecuteTime": {
     "end_time": "2021-07-28T15:39:32.770550Z",
     "start_time": "2021-07-28T15:36:49.574882Z"
    }
   },
   "outputs": [],
   "source": [
    "changes = match_employers(e.value_counts().index)"
   ]
  },
  {
   "cell_type": "markdown",
   "metadata": {},
   "source": [
    "### Saving for manual vet"
   ]
  },
  {
   "cell_type": "code",
   "execution_count": null,
   "metadata": {
    "ExecuteTime": {
     "end_time": "2021-07-28T15:36:45.227969Z",
     "start_time": "2021-07-28T15:35:54.433Z"
    }
   },
   "outputs": [],
   "source": [
    "pd.Series(changes).to_csv('etc/emp_changes_1.csv')"
   ]
  },
  {
   "cell_type": "markdown",
   "metadata": {},
   "source": [
    "### Vetted first pass"
   ]
  },
  {
   "cell_type": "markdown",
   "metadata": {},
   "source": [
    "I only vetted the first 500 of this pass."
   ]
  },
  {
   "cell_type": "code",
   "execution_count": 140,
   "metadata": {
    "ExecuteTime": {
     "end_time": "2021-07-28T15:39:32.777774Z",
     "start_time": "2021-07-28T15:39:32.771572Z"
    }
   },
   "outputs": [
    {
     "data": {
      "text/html": [
       "<div>\n",
       "<style scoped>\n",
       "    .dataframe tbody tr th:only-of-type {\n",
       "        vertical-align: middle;\n",
       "    }\n",
       "\n",
       "    .dataframe tbody tr th {\n",
       "        vertical-align: top;\n",
       "    }\n",
       "\n",
       "    .dataframe thead th {\n",
       "        text-align: right;\n",
       "    }\n",
       "</style>\n",
       "<table border=\"1\" class=\"dataframe\">\n",
       "  <thead>\n",
       "    <tr style=\"text-align: right;\">\n",
       "      <th></th>\n",
       "      <th>vet_new</th>\n",
       "    </tr>\n",
       "    <tr>\n",
       "      <th>vet_old</th>\n",
       "      <th></th>\n",
       "    </tr>\n",
       "  </thead>\n",
       "  <tbody>\n",
       "    <tr>\n",
       "      <th>ATTORNEYGENERAL</th>\n",
       "      <td>ATTORNEY GENERAL</td>\n",
       "    </tr>\n",
       "    <tr>\n",
       "      <th>CITY OF TORONTO TORONTO TRANSIT COMM</th>\n",
       "      <td>CITY OF TORONTO TORONTO TRANSIT COMMISSION</td>\n",
       "    </tr>\n",
       "    <tr>\n",
       "      <th>THE UNIVERSITY OF WESTERN ONTARIO</th>\n",
       "      <td>UNIVERSITY OF WESTERN ONTARIO</td>\n",
       "    </tr>\n",
       "    <tr>\n",
       "      <th>COMM SAFETYAND CORR SERVICES</th>\n",
       "      <td>COMM SAFETY AND CORR SERVICES</td>\n",
       "    </tr>\n",
       "    <tr>\n",
       "      <th>COMMUNITY SAFETY AND CORR SERVICES</th>\n",
       "      <td>COMM SAFETY AND CORR SERVICES</td>\n",
       "    </tr>\n",
       "  </tbody>\n",
       "</table>\n",
       "</div>"
      ],
      "text/plain": [
       "                                                                         vet_new\n",
       "vet_old                                                                         \n",
       "ATTORNEYGENERAL                                                 ATTORNEY GENERAL\n",
       "CITY OF TORONTO TORONTO TRANSIT COMM  CITY OF TORONTO TORONTO TRANSIT COMMISSION\n",
       "THE UNIVERSITY OF WESTERN ONTARIO                  UNIVERSITY OF WESTERN ONTARIO\n",
       "COMM SAFETYAND CORR SERVICES                       COMM SAFETY AND CORR SERVICES\n",
       "COMMUNITY SAFETY AND CORR SERVICES                 COMM SAFETY AND CORR SERVICES"
      ]
     },
     "execution_count": 140,
     "metadata": {},
     "output_type": "execute_result"
    }
   ],
   "source": [
    "e5 = pd.read_csv('etc/emps 500.csv').set_index('vet_old')\n",
    "e5.head()"
   ]
  },
  {
   "cell_type": "code",
   "execution_count": 141,
   "metadata": {
    "ExecuteTime": {
     "end_time": "2021-07-28T15:39:54.492774Z",
     "start_time": "2021-07-28T15:39:32.779010Z"
    }
   },
   "outputs": [],
   "source": [
    "e_changes_1 = e5.to_dict()['vet_new']\n",
    "e = e.replace(e_changes_1)"
   ]
  },
  {
   "cell_type": "markdown",
   "metadata": {},
   "source": [
    "These changes reduce the uniques by another 200. But, these are valuable changes: they affect the most common tokens first, and so increase the concentration at the top values."
   ]
  },
  {
   "cell_type": "code",
   "execution_count": 142,
   "metadata": {
    "ExecuteTime": {
     "end_time": "2021-07-28T15:39:54.588755Z",
     "start_time": "2021-07-28T15:39:54.493910Z"
    }
   },
   "outputs": [
    {
     "data": {
      "text/plain": [
       "6106"
      ]
     },
     "execution_count": 142,
     "metadata": {},
     "output_type": "execute_result"
    }
   ],
   "source": [
    "# new uniques\n",
    "len(e.unique())"
   ]
  },
  {
   "cell_type": "code",
   "execution_count": 143,
   "metadata": {
    "ExecuteTime": {
     "end_time": "2021-07-28T15:39:54.699988Z",
     "start_time": "2021-07-28T15:39:54.589875Z"
    }
   },
   "outputs": [
    {
     "data": {
      "text/plain": [
       "718553"
      ]
     },
     "execution_count": 143,
     "metadata": {},
     "output_type": "execute_result"
    }
   ],
   "source": [
    "sum(e.value_counts()[:25])"
   ]
  },
  {
   "cell_type": "markdown",
   "metadata": {},
   "source": [
    "### Second pass"
   ]
  },
  {
   "cell_type": "code",
   "execution_count": 144,
   "metadata": {
    "ExecuteTime": {
     "end_time": "2021-07-28T15:42:16.344262Z",
     "start_time": "2021-07-28T15:42:16.342649Z"
    }
   },
   "outputs": [],
   "source": [
    "# changes2 = match_employers(e.value_counts().index)"
   ]
  },
  {
   "cell_type": "code",
   "execution_count": 145,
   "metadata": {
    "ExecuteTime": {
     "end_time": "2021-07-28T15:42:56.076102Z",
     "start_time": "2021-07-28T15:42:56.073969Z"
    }
   },
   "outputs": [],
   "source": [
    "# pd.Series(changes2).to_csv('etc/emps_changes_2.csv')"
   ]
  },
  {
   "cell_type": "markdown",
   "metadata": {},
   "source": [
    "### Vetted second pass"
   ]
  },
  {
   "cell_type": "markdown",
   "metadata": {},
   "source": [
    "**Note that** some other algorithms to reduce the amount of fuzzy matches are possible. Many false positives are long names for bodies representing different regions, e.g., school boards. With a list of Ontario placenames, these could be excluded. Likewise, acronym matches between tokens like `CAS` and `CCAS` are frequent but incorrect."
   ]
  },
  {
   "cell_type": "code",
   "execution_count": 147,
   "metadata": {
    "ExecuteTime": {
     "end_time": "2021-07-28T15:43:33.265950Z",
     "start_time": "2021-07-28T15:43:33.258625Z"
    }
   },
   "outputs": [],
   "source": [
    "emp_changes_2 = pd.read_csv('etc/emp_changes_2.csv')"
   ]
  },
  {
   "cell_type": "code",
   "execution_count": 148,
   "metadata": {
    "ExecuteTime": {
     "end_time": "2021-07-28T15:43:38.004827Z",
     "start_time": "2021-07-28T15:43:37.995557Z"
    },
    "scrolled": true
   },
   "outputs": [
    {
     "data": {
      "text/html": [
       "<div>\n",
       "<style scoped>\n",
       "    .dataframe tbody tr th:only-of-type {\n",
       "        vertical-align: middle;\n",
       "    }\n",
       "\n",
       "    .dataframe tbody tr th {\n",
       "        vertical-align: top;\n",
       "    }\n",
       "\n",
       "    .dataframe thead th {\n",
       "        text-align: right;\n",
       "    }\n",
       "</style>\n",
       "<table border=\"1\" class=\"dataframe\">\n",
       "  <thead>\n",
       "    <tr style=\"text-align: right;\">\n",
       "      <th></th>\n",
       "      <th>vet_old</th>\n",
       "      <th>vet_new</th>\n",
       "      <th>old</th>\n",
       "      <th>new</th>\n",
       "    </tr>\n",
       "  </thead>\n",
       "  <tbody>\n",
       "    <tr>\n",
       "      <th>0</th>\n",
       "      <td>NaN</td>\n",
       "      <td>NaN</td>\n",
       "      <td>REGIONAL MUNICIPALITY OF YORK POLICE SERVICES</td>\n",
       "      <td>REGIONAL MUNICIPALITY OF PEEL POLICE SERVICES</td>\n",
       "    </tr>\n",
       "    <tr>\n",
       "      <th>1</th>\n",
       "      <td>TORONTO METRO CATHOLIC DISTRICT SCHOOL BOARD</td>\n",
       "      <td>TORONTO CATHOLIC DISTRICT SCHOOL BOARD</td>\n",
       "      <td>TORONTO METRO CATHOLIC DISTRICT SCHOOL BOARD</td>\n",
       "      <td>TORONTO CATHOLIC DISTRICT SCHOOL BOARD</td>\n",
       "    </tr>\n",
       "    <tr>\n",
       "      <th>2</th>\n",
       "      <td>HALTON CATHOLIC DISTRICT SCHOOL BOARD</td>\n",
       "      <td>THE HALTON CATHOLIC DISTRICT SCHOOL BOARD</td>\n",
       "      <td>HALTON CATHOLIC DISTRICT SCHOOL BOARD</td>\n",
       "      <td>THE HALTON CATHOLIC DISTRICT SCHOOL BOARD</td>\n",
       "    </tr>\n",
       "    <tr>\n",
       "      <th>3</th>\n",
       "      <td>WATERLOO CATHOLIC DISTRICT SCHOOL BOARD</td>\n",
       "      <td>WATERLOO COUNTY CATHOLIC DISTRICT SCHOOL BOARD</td>\n",
       "      <td>WATERLOO CATHOLIC DISTRICT SCHOOL BOARD</td>\n",
       "      <td>WATERLOO COUNTY CATHOLIC DISTRICT SCHOOL BOARD</td>\n",
       "    </tr>\n",
       "    <tr>\n",
       "      <th>4</th>\n",
       "      <td>NaN</td>\n",
       "      <td>NaN</td>\n",
       "      <td>LONDON CATHOLIC DISTRICT SCHOOL BOARD</td>\n",
       "      <td>WELLINGTON CATHOLIC DISTRICT SCHOOL BOARD</td>\n",
       "    </tr>\n",
       "  </tbody>\n",
       "</table>\n",
       "</div>"
      ],
      "text/plain": [
       "                                        vet_old  \\\n",
       "0                                           NaN   \n",
       "1  TORONTO METRO CATHOLIC DISTRICT SCHOOL BOARD   \n",
       "2         HALTON CATHOLIC DISTRICT SCHOOL BOARD   \n",
       "3       WATERLOO CATHOLIC DISTRICT SCHOOL BOARD   \n",
       "4                                           NaN   \n",
       "\n",
       "                                          vet_new  \\\n",
       "0                                             NaN   \n",
       "1          TORONTO CATHOLIC DISTRICT SCHOOL BOARD   \n",
       "2       THE HALTON CATHOLIC DISTRICT SCHOOL BOARD   \n",
       "3  WATERLOO COUNTY CATHOLIC DISTRICT SCHOOL BOARD   \n",
       "4                                             NaN   \n",
       "\n",
       "                                             old  \\\n",
       "0  REGIONAL MUNICIPALITY OF YORK POLICE SERVICES   \n",
       "1   TORONTO METRO CATHOLIC DISTRICT SCHOOL BOARD   \n",
       "2          HALTON CATHOLIC DISTRICT SCHOOL BOARD   \n",
       "3        WATERLOO CATHOLIC DISTRICT SCHOOL BOARD   \n",
       "4          LONDON CATHOLIC DISTRICT SCHOOL BOARD   \n",
       "\n",
       "                                              new  \n",
       "0   REGIONAL MUNICIPALITY OF PEEL POLICE SERVICES  \n",
       "1          TORONTO CATHOLIC DISTRICT SCHOOL BOARD  \n",
       "2       THE HALTON CATHOLIC DISTRICT SCHOOL BOARD  \n",
       "3  WATERLOO COUNTY CATHOLIC DISTRICT SCHOOL BOARD  \n",
       "4       WELLINGTON CATHOLIC DISTRICT SCHOOL BOARD  "
      ]
     },
     "execution_count": 148,
     "metadata": {},
     "output_type": "execute_result"
    }
   ],
   "source": [
    "emp_changes_2.head()"
   ]
  },
  {
   "cell_type": "code",
   "execution_count": 149,
   "metadata": {
    "ExecuteTime": {
     "end_time": "2021-07-28T15:43:58.694239Z",
     "start_time": "2021-07-28T15:43:58.689352Z"
    }
   },
   "outputs": [],
   "source": [
    "# getting changes from DF\n",
    "emp_dict_2 = emp_changes_2[['vet_old', 'vet_new']].set_index('vet_old')\n",
    "emp_dict_2 = emp_dict_2[emp_dict_2['vet_new'].isna() == False]\n",
    "emp_dict_2 = emp_dict_2.to_dict()['vet_new']"
   ]
  },
  {
   "cell_type": "code",
   "execution_count": 150,
   "metadata": {
    "ExecuteTime": {
     "end_time": "2021-07-28T15:44:55.522021Z",
     "start_time": "2021-07-28T15:44:12.031415Z"
    }
   },
   "outputs": [],
   "source": [
    "e = e.replace(emp_dict_2)"
   ]
  },
  {
   "cell_type": "markdown",
   "metadata": {},
   "source": [
    "## Final state of data"
   ]
  },
  {
   "cell_type": "code",
   "execution_count": 151,
   "metadata": {
    "ExecuteTime": {
     "end_time": "2021-07-28T15:44:55.628420Z",
     "start_time": "2021-07-28T15:44:55.523275Z"
    }
   },
   "outputs": [
    {
     "data": {
      "text/plain": [
       "ONTARIO POWER GENERATION                      137335\n",
       "CITY OF TORONTO                                60606\n",
       "UNIVERSITY OF TORONTO                          56310\n",
       "CITY OF TORONTO POLICE SERVICE                 46455\n",
       "HYDRO ONE                                      32331\n",
       "ATTORNEY GENERAL                               31329\n",
       "TORONTO DISTRICT SCHOOL BOARD                  29222\n",
       "COMMUNITY SAFETY AND CORRECTIONAL SERVICES     27576\n",
       "CITY OF TORONTO TORONTO TRANSIT COMMISSION     25384\n",
       "YORK UNIVERSITY                                24967\n",
       "Name: employer, dtype: int64"
      ]
     },
     "execution_count": 151,
     "metadata": {},
     "output_type": "execute_result"
    }
   ],
   "source": [
    "e.value_counts()[:10]"
   ]
  },
  {
   "cell_type": "code",
   "execution_count": 152,
   "metadata": {
    "ExecuteTime": {
     "end_time": "2021-07-28T15:44:55.722040Z",
     "start_time": "2021-07-28T15:44:55.629854Z"
    }
   },
   "outputs": [
    {
     "data": {
      "text/plain": [
       "5405"
      ]
     },
     "execution_count": 152,
     "metadata": {},
     "output_type": "execute_result"
    }
   ],
   "source": [
    "len(e.unique())"
   ]
  },
  {
   "cell_type": "code",
   "execution_count": 153,
   "metadata": {
    "ExecuteTime": {
     "end_time": "2021-07-28T15:44:55.827911Z",
     "start_time": "2021-07-28T15:44:55.723038Z"
    }
   },
   "outputs": [
    {
     "data": {
      "text/plain": [
       "718572"
      ]
     },
     "execution_count": 153,
     "metadata": {},
     "output_type": "execute_result"
    }
   ],
   "source": [
    "sum(e.value_counts()[:25])"
   ]
  },
  {
   "cell_type": "markdown",
   "metadata": {},
   "source": [
    "### Adding changes"
   ]
  },
  {
   "cell_type": "code",
   "execution_count": 157,
   "metadata": {
    "ExecuteTime": {
     "end_time": "2021-07-28T15:56:24.292871Z",
     "start_time": "2021-07-28T15:56:24.248638Z"
    }
   },
   "outputs": [],
   "source": [
    "main['employer'] = e"
   ]
  },
  {
   "cell_type": "markdown",
   "metadata": {},
   "source": [
    "## Changing sectors for power companies"
   ]
  },
  {
   "cell_type": "markdown",
   "metadata": {},
   "source": [
    "As mentioned, all Ontario power companies (now standardized) are entering a new sector called `POWER`."
   ]
  },
  {
   "cell_type": "code",
   "execution_count": 172,
   "metadata": {
    "ExecuteTime": {
     "end_time": "2021-07-28T16:01:53.315282Z",
     "start_time": "2021-07-28T16:01:53.313442Z"
    }
   },
   "outputs": [],
   "source": [
    "# final standardization \n",
    "# result of subsidiary name change\n",
    "e_power_repl = {\n",
    "    'INDEPENDENT ELECTRICITY MARKET OP': 'INDEPENDENT ELECTRICITY SYSTEM OPERATOR'\n",
    "}"
   ]
  },
  {
   "cell_type": "code",
   "execution_count": 173,
   "metadata": {
    "ExecuteTime": {
     "end_time": "2021-07-28T16:02:25.381164Z",
     "start_time": "2021-07-28T16:02:25.227668Z"
    }
   },
   "outputs": [],
   "source": [
    "main['employer'] = main['employer'].replace(e_power_repl)"
   ]
  },
  {
   "cell_type": "markdown",
   "metadata": {},
   "source": [
    "These are all the power employers I am aware of."
   ]
  },
  {
   "cell_type": "code",
   "execution_count": 175,
   "metadata": {
    "ExecuteTime": {
     "end_time": "2021-07-28T16:24:30.788841Z",
     "start_time": "2021-07-28T16:24:30.786793Z"
    }
   },
   "outputs": [],
   "source": [
    "powers = [\n",
    "    'ONTARIO POWER GENERATION',\n",
    "    'HYDRO ONE',\n",
    "    'ONTARIO HYDRO',\n",
    "    'INDEPENDENT ELECTRICITY SYSTEM AUTHORITY',\n",
    "    'ONTARIO ELECTRICITY PENSION SERVICES'\n",
    "]"
   ]
  },
  {
   "cell_type": "code",
   "execution_count": 178,
   "metadata": {
    "ExecuteTime": {
     "end_time": "2021-07-28T16:29:42.268210Z",
     "start_time": "2021-07-28T16:29:42.208174Z"
    }
   },
   "outputs": [],
   "source": [
    "# secors associated with the employers\n",
    "power_sectors = main[main['employer'].isin(powers)]['sector'].unique()"
   ]
  },
  {
   "cell_type": "code",
   "execution_count": 180,
   "metadata": {
    "ExecuteTime": {
     "end_time": "2021-07-28T16:30:32.823136Z",
     "start_time": "2021-07-28T16:30:32.821403Z"
    }
   },
   "outputs": [],
   "source": [
    "# dict to replace sector values\n",
    "power_sectors_repl = {p: 'POWER' for p in power_sectors}"
   ]
  },
  {
   "cell_type": "code",
   "execution_count": 183,
   "metadata": {
    "ExecuteTime": {
     "end_time": "2021-07-28T16:30:58.776035Z",
     "start_time": "2021-07-28T16:30:58.599073Z"
    }
   },
   "outputs": [],
   "source": [
    "main['sector'] = main['sector'].replace(power_sectors_repl)"
   ]
  },
  {
   "cell_type": "markdown",
   "metadata": {},
   "source": [
    "# Job titles"
   ]
  },
  {
   "cell_type": "code",
   "execution_count": 185,
   "metadata": {
    "ExecuteTime": {
     "end_time": "2021-07-28T16:32:17.947242Z",
     "start_time": "2021-07-28T16:32:17.945446Z"
    }
   },
   "outputs": [],
   "source": [
    "j = main['job']"
   ]
  },
  {
   "cell_type": "markdown",
   "metadata": {},
   "source": [
    "## Raw data"
   ]
  },
  {
   "cell_type": "markdown",
   "metadata": {},
   "source": [
    "Unchanged, this is the state of the data:"
   ]
  },
  {
   "cell_type": "code",
   "execution_count": 186,
   "metadata": {
    "ExecuteTime": {
     "end_time": "2021-07-28T16:32:38.518100Z",
     "start_time": "2021-07-28T16:32:38.360305Z"
    }
   },
   "outputs": [
    {
     "data": {
      "text/plain": [
       "160065"
      ]
     },
     "execution_count": 186,
     "metadata": {},
     "output_type": "execute_result"
    }
   ],
   "source": [
    "len(j.unique())"
   ]
  },
  {
   "cell_type": "code",
   "execution_count": 187,
   "metadata": {
    "ExecuteTime": {
     "end_time": "2021-07-28T16:32:50.028044Z",
     "start_time": "2021-07-28T16:32:49.788173Z"
    }
   },
   "outputs": [
    {
     "data": {
      "text/plain": [
       "PROFESSOR                        72246\n",
       "ASSOCIATE PROFESSOR              46875\n",
       "REGISTERED NURSE                 41751\n",
       "CONSTABLE                        32015\n",
       "POLICE CONSTABLE                 27262\n",
       "SECONDARY TEACHER                21793\n",
       "PRINCIPAL                        20190\n",
       "SERGEANT                         18707\n",
       "ELEMENTARY PRINCIPAL             16986\n",
       "TEACHER                          15504\n",
       "FIREFIGHTER                      12961\n",
       "ASSISTANT PROFESSOR              12386\n",
       "LAW ENFORCEMENT OFFICER          11510\n",
       "ELEMENTARY TEACHER               10179\n",
       "PRINCIPAL ELEMENTARY              9608\n",
       "DETECTIVE                         9518\n",
       "FIREFIGHTER OPERATION             9502\n",
       "FACULTY MEMBER                    9319\n",
       "PLAINCLOTHES POLICE CONSTABLE     9249\n",
       "ASSISTANT CROWN ATTORNEY          8464\n",
       "CAPTAIN                           8391\n",
       "MANAGER                           8045\n",
       "STAFF SERGEANT                    7371\n",
       "VICE PRINCIPAL                    7240\n",
       "NUCLEAR OPERATOR                  7087\n",
       "Name: job, dtype: int64"
      ]
     },
     "execution_count": 187,
     "metadata": {},
     "output_type": "execute_result"
    }
   ],
   "source": [
    "j.value_counts()[:25]"
   ]
  },
  {
   "cell_type": "code",
   "execution_count": 189,
   "metadata": {
    "ExecuteTime": {
     "end_time": "2021-07-28T16:33:11.015534Z",
     "start_time": "2021-07-28T16:33:10.782330Z"
    }
   },
   "outputs": [
    {
     "data": {
      "text/plain": [
       "454159"
      ]
     },
     "execution_count": 189,
     "metadata": {},
     "output_type": "execute_result"
    }
   ],
   "source": [
    "j.value_counts()[:25].sum()"
   ]
  },
  {
   "cell_type": "markdown",
   "metadata": {},
   "source": [
    "## Basic cleaning"
   ]
  },
  {
   "cell_type": "code",
   "execution_count": 190,
   "metadata": {
    "ExecuteTime": {
     "end_time": "2021-07-28T16:33:59.219293Z",
     "start_time": "2021-07-28T16:33:57.033402Z"
    }
   },
   "outputs": [],
   "source": [
    "# whitespace\n",
    "j = j.str.strip()\n",
    "j = j.str.replace(r'\\s+', ' ', regex=True)"
   ]
  },
  {
   "cell_type": "markdown",
   "metadata": {},
   "source": [
    "Removing `/` and `-`, which often delimit compound, complex titles."
   ]
  },
  {
   "cell_type": "code",
   "execution_count": 192,
   "metadata": {
    "ExecuteTime": {
     "end_time": "2021-07-28T16:39:17.517746Z",
     "start_time": "2021-07-28T16:39:16.785344Z"
    }
   },
   "outputs": [],
   "source": [
    "j = j.str.replace('/', '', regex=False)\n",
    "j = j.str.replace('-', '', regex=False)"
   ]
  },
  {
   "cell_type": "markdown",
   "metadata": {},
   "source": [
    "Reusing these French replacements from sector cleaning:"
   ]
  },
  {
   "cell_type": "code",
   "execution_count": 193,
   "metadata": {
    "ExecuteTime": {
     "end_time": "2021-07-28T16:39:42.616693Z",
     "start_time": "2021-07-28T16:39:42.614884Z"
    }
   },
   "outputs": [],
   "source": [
    "j_fr_repl = {\n",
    "    '\\u00c2\\u0080\\u0094': '',\n",
    "    '\\u00c2\\u0080\\u0093': '',\n",
    "    '\\u00a0': '', \n",
    "    '\\u00c2\\u0080\\u0099': \"'\",\n",
    "    '\\u0092': \"'\",\n",
    "}"
   ]
  },
  {
   "cell_type": "code",
   "execution_count": 194,
   "metadata": {
    "ExecuteTime": {
     "end_time": "2021-07-28T16:39:50.695723Z",
     "start_time": "2021-07-28T16:39:48.986686Z"
    }
   },
   "outputs": [],
   "source": [
    "for k,v in j_fr_repl.items():\n",
    "    j = j.str.replace(k, v, regex=False)"
   ]
  },
  {
   "cell_type": "code",
   "execution_count": 196,
   "metadata": {
    "ExecuteTime": {
     "end_time": "2021-07-28T16:40:09.442870Z",
     "start_time": "2021-07-28T16:40:07.311000Z"
    }
   },
   "outputs": [],
   "source": [
    "# duplicative whitespace cleaning\n",
    "j = j.str.strip()\n",
    "j = j.str.replace(r'\\s+', ' ', regex=True)"
   ]
  },
  {
   "cell_type": "markdown",
   "metadata": {},
   "source": [
    "### Changes to data"
   ]
  },
  {
   "cell_type": "markdown",
   "metadata": {},
   "source": [
    "10K fewer uniques."
   ]
  },
  {
   "cell_type": "code",
   "execution_count": 197,
   "metadata": {
    "ExecuteTime": {
     "end_time": "2021-07-28T16:47:24.235975Z",
     "start_time": "2021-07-28T16:47:24.090460Z"
    }
   },
   "outputs": [
    {
     "data": {
      "text/plain": [
       "150632"
      ]
     },
     "execution_count": 197,
     "metadata": {},
     "output_type": "execute_result"
    }
   ],
   "source": [
    "len(j.unique())"
   ]
  },
  {
   "cell_type": "markdown",
   "metadata": {},
   "source": [
    "10K more in the top 25."
   ]
  },
  {
   "cell_type": "code",
   "execution_count": 198,
   "metadata": {
    "ExecuteTime": {
     "end_time": "2021-07-28T16:47:30.073843Z",
     "start_time": "2021-07-28T16:47:29.854302Z"
    }
   },
   "outputs": [
    {
     "data": {
      "text/plain": [
       "460938"
      ]
     },
     "execution_count": 198,
     "metadata": {},
     "output_type": "execute_result"
    }
   ],
   "source": [
    "j.value_counts()[:25].sum()"
   ]
  },
  {
   "cell_type": "markdown",
   "metadata": {},
   "source": [
    "## Abbreviations"
   ]
  },
  {
   "cell_type": "markdown",
   "metadata": {},
   "source": [
    "Unlike other fields, I am going to many *abbreviate longer versions* of common job designations. In other cases, I am going to abbreviate to more commonly known titles. The overall goal is to arbitrarily convert tokens of very common job titles to their most understandable version. "
   ]
  },
  {
   "cell_type": "code",
   "execution_count": 199,
   "metadata": {
    "ExecuteTime": {
     "end_time": "2021-07-28T16:49:21.285454Z",
     "start_time": "2021-07-28T16:49:21.283168Z"
    }
   },
   "outputs": [],
   "source": [
    "j_title_repl = {\n",
    "    r'\\bASSOC\\b': 'ASSOCIATE',\n",
    "    r'\\bDIR\\b': 'DIRECTOR',\n",
    "    r'\\bEXEC\\b': 'EXECUTIVE',\n",
    "    r'\\bMGR\\b': 'MANAGER',\n",
    "    r'\\bGM\\b': 'GENERAL MANAGER',\n",
    "    r'\\bVP\\b': 'VICE PRESIDENT',\n",
    "    'VICEPRESIDENT': 'VICE PRESIDENT',\n",
    "    'VICEPRINCIPAL': 'VICE PRINCIPAL',\n",
    "    \n",
    "    'CHIEF EXECUTIVE OFFICER': 'CEO',\n",
    "    'CHIEF FINANCIAL OFFICER': 'CFO'\n",
    "}"
   ]
  },
  {
   "cell_type": "markdown",
   "metadata": {},
   "source": [
    "But, I am re-using the abbreviations dict from cleaning the employers column to expand commonly abbreviated words like `centre`."
   ]
  },
  {
   "cell_type": "code",
   "execution_count": 200,
   "metadata": {
    "ExecuteTime": {
     "end_time": "2021-07-28T16:49:32.850923Z",
     "start_time": "2021-07-28T16:49:32.848750Z"
    }
   },
   "outputs": [],
   "source": [
    "j_abbr_repl = {\n",
    "    r'\\bHLTH\\b': 'HEALTH', r'\\bCTR\\b': 'CENTRE', r'\\bCENTER\\b': 'CENTRE',\n",
    "    r'\\bCENT\\b': 'CENTRE',\n",
    "    \n",
    "    r'\\bSCH\\b': 'SCHOOL', \n",
    "    \n",
    "    r'\\bBD\\b': 'BOARD', r'\\bBRD\\b': 'BOARD',\n",
    "    \n",
    "    r'\\bHOSP\\b': 'HOSPITAL', r'\\bHOP\\b': 'HOSPITAL',\n",
    "\n",
    "    r\"\\bREG'L\\b\": 'REGIONAL',    \n",
    "    \n",
    "    r'\\bCORP\\b': 'CORPORATION',\n",
    "    \n",
    "    r'\\bSOC\\b': 'SOCIETY',\n",
    "    \n",
    "    r'\\bSERV\\b': 'SERVICES',\n",
    "    r'\\bSRVCS\\b': 'SERVICES'    \n",
    "}"
   ]
  },
  {
   "cell_type": "markdown",
   "metadata": {},
   "source": [
    "I am also making these arbitrary changes to the most common job titles, to avoid making them with fuzzy matching. That said, most of these would score `s=100` with `fuzz.partial_ratio`."
   ]
  },
  {
   "cell_type": "code",
   "execution_count": 201,
   "metadata": {
    "ExecuteTime": {
     "end_time": "2021-07-28T16:49:56.013634Z",
     "start_time": "2021-07-28T16:49:56.010322Z"
    }
   },
   "outputs": [],
   "source": [
    "j_common_repl = {\n",
    "    'POLICE CONSTABLE': 'CONSTABLE',\n",
    "    'POLICE SERGEANT': 'SERGEANT',\n",
    "    \n",
    "    'PRINCIPAL ELEMENTARY': 'PRINCIPAL',\n",
    "    'ELEMENTARY PRINCIPAL': 'PRINCIPAL',\n",
    "    'SECONDARY PRINCIPAL': 'PRINCIPAL',\n",
    "    'PRINCIPAL SECONDARY': 'PRINCIPAL',\n",
    "    \n",
    "    'VICE PRINCIPAL ELEMENTARY': 'VICE PRINCIPAL',\n",
    "    'ELEMENTARY VICE PRINCIPAL': 'VICE PRINCIPAL',\n",
    "    'SECONDARY VICE PRINCIPAL': 'VICE PRINCIPAL',\n",
    "    'VICE PRINCIPAL SECONDARY': 'VICE PRINCIPAL',\n",
    "    \n",
    "    'ELEMENTARY TEACHER': 'TEACHER',\n",
    "    'TEACHER ELEMENTARY': 'TEACHER',\n",
    "    'TEACHER SECONDARY': 'TEACHER',\n",
    "    'SECONDARY TEACHER': 'TEACHER',\n",
    "    \"TEACHERSECONDARY\": \"TEACHER\",\n",
    "    'TEACHERELEMENTARY': 'TEACHER',\n",
    "    \n",
    "    'FULL PROFESSOR': 'PROFESSOR',\n",
    "    \n",
    "    'NURSE REGISTERED': 'REGISTERED NURSE',\n",
    "    \n",
    "    # FRENCH\n",
    "    \"ENSEIGNANTE\": \"TEACHER\",\n",
    "    'REGISTERED NURSEINFIRMIÃ¨RE AUTORISÃ©E': 'REGISTERED NURSE',\n",
    "    'REGISTERED NURSE INFIRMIÃ¨RE AUTORISÃ©E': 'REGISTERED NURSE',\n",
    "    'PROFESSEUR(E) AGRÃ©GÃ©(E) ASSOCIATE PROFESSOR': 'ASSOCIATE PROFESSOR',\n",
    "    'PROFESSEUR(E) TITULAIRE FULL PROFESSOR': 'PROFESSOR',\n",
    "    'PROFESSEUR': 'PROFESSOR',\n",
    "    \"LAW ENFORCEMENT OFFICER AGENT D'EXÃ©CUTION DE LA LOI\": 'LAW ENFORCEMENT OFFICER'\n",
    "    \"LAW ENFORCEMENT OFFICER AGENTE D'EXÃ©CUTION DE LA LOI\" \"LAW ENFORCEMENT OFFICER\",\n",
    "    \"ASSISTANT CROWN ATTORNEY PROCUREUR ADJOINT DE LA COURONNE\": \"ASSISTANT CROWN ATTORNEY\",\n",
    "    \"ASSISTANT CROWN ATTORNEY PROCUREURE ADJOINTE DE LA COURONNE\": \"ASSISTANT CROWN ATTORNEY\"\n",
    "}"
   ]
  },
  {
   "cell_type": "markdown",
   "metadata": {},
   "source": [
    "Some of these aggregations obscure smaller groups, like primary vs secondary principals. These distinctions may be useful, but are likely bad samples as virtually all of the `principal` records are either elementary or secondary school principles, but are not designated as such; and the records can still be disaggregated by sorting by sector and employer."
   ]
  },
  {
   "cell_type": "markdown",
   "metadata": {},
   "source": [
    "### Applying changes"
   ]
  },
  {
   "cell_type": "code",
   "execution_count": 202,
   "metadata": {
    "ExecuteTime": {
     "end_time": "2021-07-28T16:50:43.698008Z",
     "start_time": "2021-07-28T16:50:34.169335Z"
    }
   },
   "outputs": [],
   "source": [
    "for k,v in j_title_repl.items():\n",
    "    j = j.str.replace(k, v, regex=True)"
   ]
  },
  {
   "cell_type": "code",
   "execution_count": 203,
   "metadata": {
    "ExecuteTime": {
     "end_time": "2021-07-28T16:51:00.172908Z",
     "start_time": "2021-07-28T16:50:43.699130Z"
    }
   },
   "outputs": [],
   "source": [
    "for k,v in j_abbr_repl.items():\n",
    "    j = j.str.replace(k, v, regex=True)"
   ]
  },
  {
   "cell_type": "code",
   "execution_count": 204,
   "metadata": {
    "ExecuteTime": {
     "end_time": "2021-07-28T16:51:01.996182Z",
     "start_time": "2021-07-28T16:51:00.174047Z"
    }
   },
   "outputs": [],
   "source": [
    "j = j.replace(j_common_repl)"
   ]
  },
  {
   "cell_type": "markdown",
   "metadata": {},
   "source": [
    "### Changes to data"
   ]
  },
  {
   "cell_type": "markdown",
   "metadata": {},
   "source": [
    "3K fewer uniques."
   ]
  },
  {
   "cell_type": "code",
   "execution_count": 207,
   "metadata": {
    "ExecuteTime": {
     "end_time": "2021-07-28T16:51:31.072161Z",
     "start_time": "2021-07-28T16:51:30.953018Z"
    }
   },
   "outputs": [
    {
     "data": {
      "text/plain": [
       "147271"
      ]
     },
     "execution_count": 207,
     "metadata": {},
     "output_type": "execute_result"
    }
   ],
   "source": [
    "len(j.unique())"
   ]
  },
  {
   "cell_type": "markdown",
   "metadata": {},
   "source": [
    "105K more in the top 25; **very substantial** change."
   ]
  },
  {
   "cell_type": "code",
   "execution_count": 206,
   "metadata": {
    "ExecuteTime": {
     "end_time": "2021-07-28T16:51:13.838598Z",
     "start_time": "2021-07-28T16:51:13.621033Z"
    }
   },
   "outputs": [
    {
     "data": {
      "text/plain": [
       "565224"
      ]
     },
     "execution_count": 206,
     "metadata": {},
     "output_type": "execute_result"
    }
   ],
   "source": [
    "sum(j.value_counts()[:25])"
   ]
  },
  {
   "cell_type": "markdown",
   "metadata": {},
   "source": [
    "## Fuzzy matching"
   ]
  },
  {
   "cell_type": "markdown",
   "metadata": {},
   "source": [
    "There are far too many job tokens to fully match. For the sake of my time, I am matching against the first 1000 tokens, and manually vetting."
   ]
  },
  {
   "cell_type": "code",
   "execution_count": 210,
   "metadata": {
    "ExecuteTime": {
     "end_time": "2021-07-28T16:53:31.598455Z",
     "start_time": "2021-07-28T16:53:31.595772Z"
    }
   },
   "outputs": [],
   "source": [
    "def match_jobs(j, n):\n",
    "    changes = {}\n",
    "    for i,e in enumerate(j):\n",
    "        if e not in changes.keys():\n",
    "            matches = process.extract(e, j[i+1:], scorer=fuzz.token_sort_ratio)\n",
    "            if matches:\n",
    "                for m,v in matches:\n",
    "                    if v >= 90 and m != e and m not in changes.values():\n",
    "                        changes[m] = e\n",
    "        if i == n:\n",
    "            return changes"
   ]
  },
  {
   "cell_type": "code",
   "execution_count": 211,
   "metadata": {
    "ExecuteTime": {
     "end_time": "2021-07-28T16:55:17.016745Z",
     "start_time": "2021-07-28T16:53:37.489997Z"
    },
    "collapsed": true
   },
   "outputs": [
    {
     "ename": "KeyboardInterrupt",
     "evalue": "",
     "output_type": "error",
     "traceback": [
      "\u001b[0;31m---------------------------------------------------------------------------\u001b[0m",
      "\u001b[0;31mAttributeError\u001b[0m                            Traceback (most recent call last)",
      "\u001b[0;32m~/.local/lib/python3.8/site-packages/fuzzywuzzy/process.py\u001b[0m in \u001b[0;36mextractWithoutOrder\u001b[0;34m(query, choices, processor, scorer, score_cutoff)\u001b[0m\n\u001b[1;32m    107\u001b[0m         \u001b[0;31m# See if choices is a dictionary-like object.\u001b[0m\u001b[0;34m\u001b[0m\u001b[0;34m\u001b[0m\u001b[0;34m\u001b[0m\u001b[0m\n\u001b[0;32m--> 108\u001b[0;31m         \u001b[0;32mfor\u001b[0m \u001b[0mkey\u001b[0m\u001b[0;34m,\u001b[0m \u001b[0mchoice\u001b[0m \u001b[0;32min\u001b[0m \u001b[0mchoices\u001b[0m\u001b[0;34m.\u001b[0m\u001b[0mitems\u001b[0m\u001b[0;34m(\u001b[0m\u001b[0;34m)\u001b[0m\u001b[0;34m:\u001b[0m\u001b[0;34m\u001b[0m\u001b[0;34m\u001b[0m\u001b[0m\n\u001b[0m\u001b[1;32m    109\u001b[0m             \u001b[0mprocessed\u001b[0m \u001b[0;34m=\u001b[0m \u001b[0mpre_processor\u001b[0m\u001b[0;34m(\u001b[0m\u001b[0mprocessor\u001b[0m\u001b[0;34m(\u001b[0m\u001b[0mchoice\u001b[0m\u001b[0;34m)\u001b[0m\u001b[0;34m)\u001b[0m\u001b[0;34m\u001b[0m\u001b[0;34m\u001b[0m\u001b[0m\n",
      "\u001b[0;31mAttributeError\u001b[0m: 'Index' object has no attribute 'items'",
      "\nDuring handling of the above exception, another exception occurred:\n",
      "\u001b[0;31mKeyboardInterrupt\u001b[0m                         Traceback (most recent call last)",
      "\u001b[0;32m<ipython-input-211-c62a8d32691d>\u001b[0m in \u001b[0;36m<module>\u001b[0;34m\u001b[0m\n\u001b[0;32m----> 1\u001b[0;31m \u001b[0mchanges\u001b[0m \u001b[0;34m=\u001b[0m \u001b[0mmatch_jobs\u001b[0m\u001b[0;34m(\u001b[0m\u001b[0mj\u001b[0m\u001b[0;34m.\u001b[0m\u001b[0mvalue_counts\u001b[0m\u001b[0;34m(\u001b[0m\u001b[0;34m)\u001b[0m\u001b[0;34m.\u001b[0m\u001b[0mindex\u001b[0m\u001b[0;34m,\u001b[0m \u001b[0;36m1000\u001b[0m\u001b[0;34m)\u001b[0m\u001b[0;34m\u001b[0m\u001b[0;34m\u001b[0m\u001b[0m\n\u001b[0m",
      "\u001b[0;32m<ipython-input-210-6850424a69b3>\u001b[0m in \u001b[0;36mmatch_jobs\u001b[0;34m(j, n)\u001b[0m\n\u001b[1;32m      3\u001b[0m     \u001b[0;32mfor\u001b[0m \u001b[0mi\u001b[0m\u001b[0;34m,\u001b[0m\u001b[0me\u001b[0m \u001b[0;32min\u001b[0m \u001b[0menumerate\u001b[0m\u001b[0;34m(\u001b[0m\u001b[0mj\u001b[0m\u001b[0;34m)\u001b[0m\u001b[0;34m:\u001b[0m\u001b[0;34m\u001b[0m\u001b[0;34m\u001b[0m\u001b[0m\n\u001b[1;32m      4\u001b[0m         \u001b[0;32mif\u001b[0m \u001b[0me\u001b[0m \u001b[0;32mnot\u001b[0m \u001b[0;32min\u001b[0m \u001b[0mchanges\u001b[0m\u001b[0;34m.\u001b[0m\u001b[0mkeys\u001b[0m\u001b[0;34m(\u001b[0m\u001b[0;34m)\u001b[0m\u001b[0;34m:\u001b[0m\u001b[0;34m\u001b[0m\u001b[0;34m\u001b[0m\u001b[0m\n\u001b[0;32m----> 5\u001b[0;31m             \u001b[0mmatches\u001b[0m \u001b[0;34m=\u001b[0m \u001b[0mprocess\u001b[0m\u001b[0;34m.\u001b[0m\u001b[0mextract\u001b[0m\u001b[0;34m(\u001b[0m\u001b[0me\u001b[0m\u001b[0;34m,\u001b[0m \u001b[0mj\u001b[0m\u001b[0;34m[\u001b[0m\u001b[0mi\u001b[0m\u001b[0;34m+\u001b[0m\u001b[0;36m1\u001b[0m\u001b[0;34m:\u001b[0m\u001b[0;34m]\u001b[0m\u001b[0;34m,\u001b[0m \u001b[0mscorer\u001b[0m\u001b[0;34m=\u001b[0m\u001b[0mfuzz\u001b[0m\u001b[0;34m.\u001b[0m\u001b[0mtoken_sort_ratio\u001b[0m\u001b[0;34m)\u001b[0m\u001b[0;34m\u001b[0m\u001b[0;34m\u001b[0m\u001b[0m\n\u001b[0m\u001b[1;32m      6\u001b[0m             \u001b[0;32mif\u001b[0m \u001b[0mmatches\u001b[0m\u001b[0;34m:\u001b[0m\u001b[0;34m\u001b[0m\u001b[0;34m\u001b[0m\u001b[0m\n\u001b[1;32m      7\u001b[0m                 \u001b[0;32mfor\u001b[0m \u001b[0mm\u001b[0m\u001b[0;34m,\u001b[0m\u001b[0mv\u001b[0m \u001b[0;32min\u001b[0m \u001b[0mmatches\u001b[0m\u001b[0;34m:\u001b[0m\u001b[0;34m\u001b[0m\u001b[0;34m\u001b[0m\u001b[0m\n",
      "\u001b[0;32m~/.local/lib/python3.8/site-packages/fuzzywuzzy/process.py\u001b[0m in \u001b[0;36mextract\u001b[0;34m(query, choices, processor, scorer, limit)\u001b[0m\n\u001b[1;32m    166\u001b[0m     \"\"\"\n\u001b[1;32m    167\u001b[0m     \u001b[0msl\u001b[0m \u001b[0;34m=\u001b[0m \u001b[0mextractWithoutOrder\u001b[0m\u001b[0;34m(\u001b[0m\u001b[0mquery\u001b[0m\u001b[0;34m,\u001b[0m \u001b[0mchoices\u001b[0m\u001b[0;34m,\u001b[0m \u001b[0mprocessor\u001b[0m\u001b[0;34m,\u001b[0m \u001b[0mscorer\u001b[0m\u001b[0;34m)\u001b[0m\u001b[0;34m\u001b[0m\u001b[0;34m\u001b[0m\u001b[0m\n\u001b[0;32m--> 168\u001b[0;31m     \u001b[0;32mreturn\u001b[0m \u001b[0mheapq\u001b[0m\u001b[0;34m.\u001b[0m\u001b[0mnlargest\u001b[0m\u001b[0;34m(\u001b[0m\u001b[0mlimit\u001b[0m\u001b[0;34m,\u001b[0m \u001b[0msl\u001b[0m\u001b[0;34m,\u001b[0m \u001b[0mkey\u001b[0m\u001b[0;34m=\u001b[0m\u001b[0;32mlambda\u001b[0m \u001b[0mi\u001b[0m\u001b[0;34m:\u001b[0m \u001b[0mi\u001b[0m\u001b[0;34m[\u001b[0m\u001b[0;36m1\u001b[0m\u001b[0;34m]\u001b[0m\u001b[0;34m)\u001b[0m \u001b[0;32mif\u001b[0m \u001b[0mlimit\u001b[0m \u001b[0;32mis\u001b[0m \u001b[0;32mnot\u001b[0m \u001b[0;32mNone\u001b[0m \u001b[0;32melse\u001b[0m\u001b[0;31m \u001b[0m\u001b[0;31m\\\u001b[0m\u001b[0;34m\u001b[0m\u001b[0;34m\u001b[0m\u001b[0m\n\u001b[0m\u001b[1;32m    169\u001b[0m         \u001b[0msorted\u001b[0m\u001b[0;34m(\u001b[0m\u001b[0msl\u001b[0m\u001b[0;34m,\u001b[0m \u001b[0mkey\u001b[0m\u001b[0;34m=\u001b[0m\u001b[0;32mlambda\u001b[0m \u001b[0mi\u001b[0m\u001b[0;34m:\u001b[0m \u001b[0mi\u001b[0m\u001b[0;34m[\u001b[0m\u001b[0;36m1\u001b[0m\u001b[0;34m]\u001b[0m\u001b[0;34m,\u001b[0m \u001b[0mreverse\u001b[0m\u001b[0;34m=\u001b[0m\u001b[0;32mTrue\u001b[0m\u001b[0;34m)\u001b[0m\u001b[0;34m\u001b[0m\u001b[0;34m\u001b[0m\u001b[0m\n\u001b[1;32m    170\u001b[0m \u001b[0;34m\u001b[0m\u001b[0m\n",
      "\u001b[0;32m/usr/lib/python3.8/heapq.py\u001b[0m in \u001b[0;36mnlargest\u001b[0;34m(n, iterable, key)\u001b[0m\n\u001b[1;32m    568\u001b[0m     \u001b[0morder\u001b[0m \u001b[0;34m=\u001b[0m \u001b[0;34m-\u001b[0m\u001b[0mn\u001b[0m\u001b[0;34m\u001b[0m\u001b[0;34m\u001b[0m\u001b[0m\n\u001b[1;32m    569\u001b[0m     \u001b[0m_heapreplace\u001b[0m \u001b[0;34m=\u001b[0m \u001b[0mheapreplace\u001b[0m\u001b[0;34m\u001b[0m\u001b[0;34m\u001b[0m\u001b[0m\n\u001b[0;32m--> 570\u001b[0;31m     \u001b[0;32mfor\u001b[0m \u001b[0melem\u001b[0m \u001b[0;32min\u001b[0m \u001b[0mit\u001b[0m\u001b[0;34m:\u001b[0m\u001b[0;34m\u001b[0m\u001b[0;34m\u001b[0m\u001b[0m\n\u001b[0m\u001b[1;32m    571\u001b[0m         \u001b[0mk\u001b[0m \u001b[0;34m=\u001b[0m \u001b[0mkey\u001b[0m\u001b[0;34m(\u001b[0m\u001b[0melem\u001b[0m\u001b[0;34m)\u001b[0m\u001b[0;34m\u001b[0m\u001b[0;34m\u001b[0m\u001b[0m\n\u001b[1;32m    572\u001b[0m         \u001b[0;32mif\u001b[0m \u001b[0mtop\u001b[0m \u001b[0;34m<\u001b[0m \u001b[0mk\u001b[0m\u001b[0;34m:\u001b[0m\u001b[0;34m\u001b[0m\u001b[0;34m\u001b[0m\u001b[0m\n",
      "\u001b[0;32m~/.local/lib/python3.8/site-packages/fuzzywuzzy/process.py\u001b[0m in \u001b[0;36mextractWithoutOrder\u001b[0;34m(query, choices, processor, scorer, score_cutoff)\u001b[0m\n\u001b[1;32m    115\u001b[0m         \u001b[0;32mfor\u001b[0m \u001b[0mchoice\u001b[0m \u001b[0;32min\u001b[0m \u001b[0mchoices\u001b[0m\u001b[0;34m:\u001b[0m\u001b[0;34m\u001b[0m\u001b[0;34m\u001b[0m\u001b[0m\n\u001b[1;32m    116\u001b[0m             \u001b[0mprocessed\u001b[0m \u001b[0;34m=\u001b[0m \u001b[0mpre_processor\u001b[0m\u001b[0;34m(\u001b[0m\u001b[0mprocessor\u001b[0m\u001b[0;34m(\u001b[0m\u001b[0mchoice\u001b[0m\u001b[0;34m)\u001b[0m\u001b[0;34m)\u001b[0m\u001b[0;34m\u001b[0m\u001b[0;34m\u001b[0m\u001b[0m\n\u001b[0;32m--> 117\u001b[0;31m             \u001b[0mscore\u001b[0m \u001b[0;34m=\u001b[0m \u001b[0mscorer\u001b[0m\u001b[0;34m(\u001b[0m\u001b[0mprocessed_query\u001b[0m\u001b[0;34m,\u001b[0m \u001b[0mprocessed\u001b[0m\u001b[0;34m)\u001b[0m\u001b[0;34m\u001b[0m\u001b[0;34m\u001b[0m\u001b[0m\n\u001b[0m\u001b[1;32m    118\u001b[0m             \u001b[0;32mif\u001b[0m \u001b[0mscore\u001b[0m \u001b[0;34m>=\u001b[0m \u001b[0mscore_cutoff\u001b[0m\u001b[0;34m:\u001b[0m\u001b[0;34m\u001b[0m\u001b[0;34m\u001b[0m\u001b[0m\n\u001b[1;32m    119\u001b[0m                 \u001b[0;32myield\u001b[0m \u001b[0;34m(\u001b[0m\u001b[0mchoice\u001b[0m\u001b[0;34m,\u001b[0m \u001b[0mscore\u001b[0m\u001b[0;34m)\u001b[0m\u001b[0;34m\u001b[0m\u001b[0;34m\u001b[0m\u001b[0m\n",
      "\u001b[0;32m~/.local/lib/python3.8/site-packages/fuzzywuzzy/fuzz.py\u001b[0m in \u001b[0;36mtoken_sort_ratio\u001b[0;34m(s1, s2, force_ascii, full_process)\u001b[0m\n\u001b[1;32m    103\u001b[0m     \u001b[0mbut\u001b[0m \u001b[0msorting\u001b[0m \u001b[0mthe\u001b[0m \u001b[0mtoken\u001b[0m \u001b[0mbefore\u001b[0m \u001b[0mcomparing\u001b[0m\u001b[0;34m.\u001b[0m\u001b[0;34m\u001b[0m\u001b[0;34m\u001b[0m\u001b[0m\n\u001b[1;32m    104\u001b[0m     \"\"\"\n\u001b[0;32m--> 105\u001b[0;31m     \u001b[0;32mreturn\u001b[0m \u001b[0m_token_sort\u001b[0m\u001b[0;34m(\u001b[0m\u001b[0ms1\u001b[0m\u001b[0;34m,\u001b[0m \u001b[0ms2\u001b[0m\u001b[0;34m,\u001b[0m \u001b[0mpartial\u001b[0m\u001b[0;34m=\u001b[0m\u001b[0;32mFalse\u001b[0m\u001b[0;34m,\u001b[0m \u001b[0mforce_ascii\u001b[0m\u001b[0;34m=\u001b[0m\u001b[0mforce_ascii\u001b[0m\u001b[0;34m,\u001b[0m \u001b[0mfull_process\u001b[0m\u001b[0;34m=\u001b[0m\u001b[0mfull_process\u001b[0m\u001b[0;34m)\u001b[0m\u001b[0;34m\u001b[0m\u001b[0;34m\u001b[0m\u001b[0m\n\u001b[0m\u001b[1;32m    106\u001b[0m \u001b[0;34m\u001b[0m\u001b[0m\n\u001b[1;32m    107\u001b[0m \u001b[0;34m\u001b[0m\u001b[0m\n",
      "\u001b[0;32m~/.local/lib/python3.8/site-packages/fuzzywuzzy/utils.py\u001b[0m in \u001b[0;36mdecorator\u001b[0;34m(*args, **kwargs)\u001b[0m\n\u001b[1;32m     36\u001b[0m         \u001b[0;32mif\u001b[0m \u001b[0margs\u001b[0m\u001b[0;34m[\u001b[0m\u001b[0;36m0\u001b[0m\u001b[0;34m]\u001b[0m \u001b[0;32mis\u001b[0m \u001b[0;32mNone\u001b[0m \u001b[0;32mor\u001b[0m \u001b[0margs\u001b[0m\u001b[0;34m[\u001b[0m\u001b[0;36m1\u001b[0m\u001b[0;34m]\u001b[0m \u001b[0;32mis\u001b[0m \u001b[0;32mNone\u001b[0m\u001b[0;34m:\u001b[0m\u001b[0;34m\u001b[0m\u001b[0;34m\u001b[0m\u001b[0m\n\u001b[1;32m     37\u001b[0m             \u001b[0;32mreturn\u001b[0m \u001b[0;36m0\u001b[0m\u001b[0;34m\u001b[0m\u001b[0;34m\u001b[0m\u001b[0m\n\u001b[0;32m---> 38\u001b[0;31m         \u001b[0;32mreturn\u001b[0m \u001b[0mfunc\u001b[0m\u001b[0;34m(\u001b[0m\u001b[0;34m*\u001b[0m\u001b[0margs\u001b[0m\u001b[0;34m,\u001b[0m \u001b[0;34m**\u001b[0m\u001b[0mkwargs\u001b[0m\u001b[0;34m)\u001b[0m\u001b[0;34m\u001b[0m\u001b[0;34m\u001b[0m\u001b[0m\n\u001b[0m\u001b[1;32m     39\u001b[0m     \u001b[0;32mreturn\u001b[0m \u001b[0mdecorator\u001b[0m\u001b[0;34m\u001b[0m\u001b[0;34m\u001b[0m\u001b[0m\n\u001b[1;32m     40\u001b[0m \u001b[0;34m\u001b[0m\u001b[0m\n",
      "\u001b[0;32m~/.local/lib/python3.8/site-packages/fuzzywuzzy/fuzz.py\u001b[0m in \u001b[0;36m_token_sort\u001b[0;34m(s1, s2, partial, force_ascii, full_process)\u001b[0m\n\u001b[1;32m     96\u001b[0m         \u001b[0;32mreturn\u001b[0m \u001b[0mpartial_ratio\u001b[0m\u001b[0;34m(\u001b[0m\u001b[0msorted1\u001b[0m\u001b[0;34m,\u001b[0m \u001b[0msorted2\u001b[0m\u001b[0;34m)\u001b[0m\u001b[0;34m\u001b[0m\u001b[0;34m\u001b[0m\u001b[0m\n\u001b[1;32m     97\u001b[0m     \u001b[0;32melse\u001b[0m\u001b[0;34m:\u001b[0m\u001b[0;34m\u001b[0m\u001b[0;34m\u001b[0m\u001b[0m\n\u001b[0;32m---> 98\u001b[0;31m         \u001b[0;32mreturn\u001b[0m \u001b[0mratio\u001b[0m\u001b[0;34m(\u001b[0m\u001b[0msorted1\u001b[0m\u001b[0;34m,\u001b[0m \u001b[0msorted2\u001b[0m\u001b[0;34m)\u001b[0m\u001b[0;34m\u001b[0m\u001b[0;34m\u001b[0m\u001b[0m\n\u001b[0m\u001b[1;32m     99\u001b[0m \u001b[0;34m\u001b[0m\u001b[0m\n\u001b[1;32m    100\u001b[0m \u001b[0;34m\u001b[0m\u001b[0m\n",
      "\u001b[0;32m~/.local/lib/python3.8/site-packages/fuzzywuzzy/utils.py\u001b[0m in \u001b[0;36mdecorator\u001b[0;34m(*args, **kwargs)\u001b[0m\n\u001b[1;32m     36\u001b[0m         \u001b[0;32mif\u001b[0m \u001b[0margs\u001b[0m\u001b[0;34m[\u001b[0m\u001b[0;36m0\u001b[0m\u001b[0;34m]\u001b[0m \u001b[0;32mis\u001b[0m \u001b[0;32mNone\u001b[0m \u001b[0;32mor\u001b[0m \u001b[0margs\u001b[0m\u001b[0;34m[\u001b[0m\u001b[0;36m1\u001b[0m\u001b[0;34m]\u001b[0m \u001b[0;32mis\u001b[0m \u001b[0;32mNone\u001b[0m\u001b[0;34m:\u001b[0m\u001b[0;34m\u001b[0m\u001b[0;34m\u001b[0m\u001b[0m\n\u001b[1;32m     37\u001b[0m             \u001b[0;32mreturn\u001b[0m \u001b[0;36m0\u001b[0m\u001b[0;34m\u001b[0m\u001b[0;34m\u001b[0m\u001b[0m\n\u001b[0;32m---> 38\u001b[0;31m         \u001b[0;32mreturn\u001b[0m \u001b[0mfunc\u001b[0m\u001b[0;34m(\u001b[0m\u001b[0;34m*\u001b[0m\u001b[0margs\u001b[0m\u001b[0;34m,\u001b[0m \u001b[0;34m**\u001b[0m\u001b[0mkwargs\u001b[0m\u001b[0;34m)\u001b[0m\u001b[0;34m\u001b[0m\u001b[0;34m\u001b[0m\u001b[0m\n\u001b[0m\u001b[1;32m     39\u001b[0m     \u001b[0;32mreturn\u001b[0m \u001b[0mdecorator\u001b[0m\u001b[0;34m\u001b[0m\u001b[0;34m\u001b[0m\u001b[0m\n\u001b[1;32m     40\u001b[0m \u001b[0;34m\u001b[0m\u001b[0m\n",
      "\u001b[0;31mKeyboardInterrupt\u001b[0m: "
     ]
    }
   ],
   "source": [
    "changes = match_jobs(j.value_counts().index, 1000)"
   ]
  },
  {
   "cell_type": "markdown",
   "metadata": {},
   "source": [
    "### Applying 700 rows of changes"
   ]
  },
  {
   "cell_type": "markdown",
   "metadata": {},
   "source": [
    "I manually vetted 700 rows of suggested changes. The further down the list of ~2000, the less impactful they will be. \n",
    "\n",
    "The other way to address close misses, if I haven't fixed them in this cleaning process, is to build fuzzy matching into the API for users. E.g., when passing a `search` query to one of the fields, it can return similar values not automatically matched."
   ]
  },
  {
   "cell_type": "code",
   "execution_count": 212,
   "metadata": {
    "ExecuteTime": {
     "end_time": "2021-07-28T16:55:29.910711Z",
     "start_time": "2021-07-28T16:55:29.905791Z"
    }
   },
   "outputs": [],
   "source": [
    "j700 = pd.read_csv('etc/jobs 700.csv', usecols=['vet_old','vet_new'])\n",
    "j700 = j700[j700['vet_old'].isna() == False]\n",
    "j700.set_index('vet_old', inplace=True)"
   ]
  },
  {
   "cell_type": "code",
   "execution_count": 213,
   "metadata": {
    "ExecuteTime": {
     "end_time": "2021-07-28T16:55:31.189268Z",
     "start_time": "2021-07-28T16:55:31.184866Z"
    }
   },
   "outputs": [
    {
     "data": {
      "text/html": [
       "<div>\n",
       "<style scoped>\n",
       "    .dataframe tbody tr th:only-of-type {\n",
       "        vertical-align: middle;\n",
       "    }\n",
       "\n",
       "    .dataframe tbody tr th {\n",
       "        vertical-align: top;\n",
       "    }\n",
       "\n",
       "    .dataframe thead th {\n",
       "        text-align: right;\n",
       "    }\n",
       "</style>\n",
       "<table border=\"1\" class=\"dataframe\">\n",
       "  <thead>\n",
       "    <tr style=\"text-align: right;\">\n",
       "      <th></th>\n",
       "      <th>vet_new</th>\n",
       "    </tr>\n",
       "    <tr>\n",
       "      <th>vet_old</th>\n",
       "      <th></th>\n",
       "    </tr>\n",
       "  </thead>\n",
       "  <tbody>\n",
       "    <tr>\n",
       "      <th>PROFESSORS</th>\n",
       "      <td>PROFESSOR</td>\n",
       "    </tr>\n",
       "    <tr>\n",
       "      <th>PROFESSORMD</th>\n",
       "      <td>PROFESSOR</td>\n",
       "    </tr>\n",
       "    <tr>\n",
       "      <th>CONSTABLEE</th>\n",
       "      <td>CONSTABLE</td>\n",
       "    </tr>\n",
       "    <tr>\n",
       "      <th>CONTSTABLE</th>\n",
       "      <td>CONSTABLE</td>\n",
       "    </tr>\n",
       "    <tr>\n",
       "      <th>REGISTERED NURSE'</th>\n",
       "      <td>REGISTERED NURSE</td>\n",
       "    </tr>\n",
       "  </tbody>\n",
       "</table>\n",
       "</div>"
      ],
      "text/plain": [
       "                            vet_new\n",
       "vet_old                            \n",
       "PROFESSORS                PROFESSOR\n",
       "PROFESSORMD               PROFESSOR\n",
       "CONSTABLEE                CONSTABLE\n",
       "CONTSTABLE                CONSTABLE\n",
       "REGISTERED NURSE'  REGISTERED NURSE"
      ]
     },
     "execution_count": 213,
     "metadata": {},
     "output_type": "execute_result"
    }
   ],
   "source": [
    "j700.head()"
   ]
  },
  {
   "cell_type": "code",
   "execution_count": 214,
   "metadata": {
    "ExecuteTime": {
     "end_time": "2021-07-28T16:56:16.179687Z",
     "start_time": "2021-07-28T16:55:37.911602Z"
    }
   },
   "outputs": [],
   "source": [
    "# replacing values\n",
    "j = j.replace(j700.to_dict()['vet_new'])"
   ]
  },
  {
   "cell_type": "markdown",
   "metadata": {},
   "source": [
    "### Changes to data"
   ]
  },
  {
   "cell_type": "markdown",
   "metadata": {},
   "source": [
    "Around 800 fewer uniques."
   ]
  },
  {
   "cell_type": "code",
   "execution_count": 215,
   "metadata": {
    "ExecuteTime": {
     "end_time": "2021-07-28T16:56:16.307120Z",
     "start_time": "2021-07-28T16:56:16.180877Z"
    }
   },
   "outputs": [
    {
     "data": {
      "text/plain": [
       "146662"
      ]
     },
     "execution_count": 215,
     "metadata": {},
     "output_type": "execute_result"
    }
   ],
   "source": [
    "len(j.unique())"
   ]
  },
  {
   "cell_type": "markdown",
   "metadata": {},
   "source": [
    "8K more in top 25."
   ]
  },
  {
   "cell_type": "code",
   "execution_count": 216,
   "metadata": {
    "ExecuteTime": {
     "end_time": "2021-07-28T16:56:16.542567Z",
     "start_time": "2021-07-28T16:56:16.308562Z"
    }
   },
   "outputs": [
    {
     "data": {
      "text/plain": [
       "573797"
      ]
     },
     "execution_count": 216,
     "metadata": {},
     "output_type": "execute_result"
    }
   ],
   "source": [
    "sum(j.value_counts()[:25])"
   ]
  },
  {
   "cell_type": "markdown",
   "metadata": {},
   "source": [
    "## Applying changes"
   ]
  },
  {
   "cell_type": "code",
   "execution_count": 217,
   "metadata": {
    "ExecuteTime": {
     "end_time": "2021-07-28T16:56:20.171958Z",
     "start_time": "2021-07-28T16:56:20.129213Z"
    }
   },
   "outputs": [],
   "source": [
    "main['job'] = j"
   ]
  },
  {
   "cell_type": "markdown",
   "metadata": {},
   "source": [
    "# Saving final data"
   ]
  },
  {
   "cell_type": "code",
   "execution_count": 220,
   "metadata": {
    "ExecuteTime": {
     "end_time": "2021-07-28T18:18:06.317035Z",
     "start_time": "2021-07-28T18:17:58.142147Z"
    }
   },
   "outputs": [],
   "source": [
    "main.to_csv('main.csv')"
   ]
  }
 ],
 "metadata": {
  "kernelspec": {
   "display_name": "Python 3",
   "language": "python",
   "name": "python3"
  },
  "language_info": {
   "codemirror_mode": {
    "name": "ipython",
    "version": 3
   },
   "file_extension": ".py",
   "mimetype": "text/x-python",
   "name": "python",
   "nbconvert_exporter": "python",
   "pygments_lexer": "ipython3",
   "version": "3.8.10"
  },
  "toc": {
   "base_numbering": 1,
   "nav_menu": {},
   "number_sections": true,
   "sideBar": true,
   "skip_h1_title": false,
   "title_cell": "Table of Contents",
   "title_sidebar": "Contents",
   "toc_cell": false,
   "toc_position": {},
   "toc_section_display": true,
   "toc_window_display": false
  }
 },
 "nbformat": 4,
 "nbformat_minor": 4
}
